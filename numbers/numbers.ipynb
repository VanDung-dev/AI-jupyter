{
  "cells": [
    {
      "metadata": {
        "id": "8ffa56ab463d5149"
      },
      "cell_type": "markdown",
      "source": [
        "# Xây Dựng Mạng CNN với PyTorch - Nhận Diện Chữ Số Viết Tay MNIST\n",
        "\n",
        "## 🎯 Mục tiêu:\n",
        "Trong khóa học này, bạn sẽ:\n",
        "1.  Học cách xây dựng một Mạng Nơ-ron Tích chập (CNN) từ đầu bằng PyTorch.\n",
        "2.  Hiểu rõ quy trình huấn luyện và đánh giá mô hình trên tập dữ liệu MNIST.\n",
        "3.  Phân tích cách mô hình hoạt động bằng cách hiển thị các feature maps.\n",
        "4.  Tự vẽ chữ số và để mô hình dự đoán (sử dụng `ipycanvas`).\n",
        "\n",
        "## 🧠 Kiến thức cốt lõi:\n",
        "*   PyTorch `nn.Module`, `DataLoader`, `Transforms`.\n",
        "*   Kiến trúc CNN: Convolution, ReLU, MaxPooling, Fully Connected Layers.\n",
        "*   Quy trình huấn luyện: Forward pass, Loss, Backward pass, Optimizer.\n",
        "*   Trực quan hóa dữ liệu và kết quả mô hình.\n",
        "*   Tương tác người dùng trong Jupyter Notebook."
      ],
      "id": "8ffa56ab463d5149"
    },
    {
      "metadata": {
        "id": "a2dd4f2788259cb2"
      },
      "cell_type": "markdown",
      "source": [
        "## PHẦN 1: ĐỊNH NGHĨA KIẾN TRÚC MÔ HÌNH CNN\n",
        "\n",
        "### Mục đích:\n",
        "Tạo lớp mô hình kế thừa từ `nn.Module` để định nghĩa mạng CNN.\n",
        "\n",
        "### Kiến trúc Mô hình `ScaledUpDigitClassifierCNN`:\n",
        "1.  **Conv Block 1:**\n",
        "    *   `Conv1 (1->64) + BatchNorm + ReLU`\n",
        "    *   `Conv2 (64->64) + BatchNorm + ReLU`\n",
        "    *   `MaxPool2D` (28x28 -> 14x14)\n",
        "    *   `Dropout2D`\n",
        "2.  **Conv Block 2:**\n",
        "    *   `Conv3 (64->128) + BatchNorm + ReLU`\n",
        "    *   `Conv4 (128->128) + BatchNorm + ReLU`\n",
        "    *   `MaxPool2D` (14x14 -> 7x7)\n",
        "    *   `Dropout2D`\n",
        "3.  **Fully Connected Layers:**\n",
        "    *   `Flatten` (128 * 7 * 7 = 6272)\n",
        "    *   `FC1 (6272->512) + BatchNorm + ReLU + Dropout`\n",
        "    *   `FC2 (512->256) + BatchNorm + ReLU + Dropout`\n",
        "    *   `FC3 (256->10)` (Output logits)"
      ],
      "id": "a2dd4f2788259cb2"
    },
    {
      "metadata": {
        "colab": {
          "base_uri": "https://localhost:8080/"
        },
        "id": "512c1f7af3247b1e",
        "outputId": "ac02d5d2-21b6-4870-eab8-dc4b66286532",
        "collapsed": true
      },
      "cell_type": "code",
      "outputs": [
        {
          "output_type": "stream",
          "name": "stdout",
          "text": [
            "Requirement already satisfied: torch in /usr/local/lib/python3.11/dist-packages (2.6.0+cu124)\n",
            "Requirement already satisfied: filelock in /usr/local/lib/python3.11/dist-packages (from torch) (3.18.0)\n",
            "Requirement already satisfied: typing-extensions>=4.10.0 in /usr/local/lib/python3.11/dist-packages (from torch) (4.14.1)\n",
            "Requirement already satisfied: networkx in /usr/local/lib/python3.11/dist-packages (from torch) (3.5)\n",
            "Requirement already satisfied: jinja2 in /usr/local/lib/python3.11/dist-packages (from torch) (3.1.6)\n",
            "Requirement already satisfied: fsspec in /usr/local/lib/python3.11/dist-packages (from torch) (2025.3.0)\n",
            "Collecting nvidia-cuda-nvrtc-cu12==12.4.127 (from torch)\n",
            "  Downloading nvidia_cuda_nvrtc_cu12-12.4.127-py3-none-manylinux2014_x86_64.whl.metadata (1.5 kB)\n",
            "Collecting nvidia-cuda-runtime-cu12==12.4.127 (from torch)\n",
            "  Downloading nvidia_cuda_runtime_cu12-12.4.127-py3-none-manylinux2014_x86_64.whl.metadata (1.5 kB)\n",
            "Collecting nvidia-cuda-cupti-cu12==12.4.127 (from torch)\n",
            "  Downloading nvidia_cuda_cupti_cu12-12.4.127-py3-none-manylinux2014_x86_64.whl.metadata (1.6 kB)\n",
            "Collecting nvidia-cudnn-cu12==9.1.0.70 (from torch)\n",
            "  Downloading nvidia_cudnn_cu12-9.1.0.70-py3-none-manylinux2014_x86_64.whl.metadata (1.6 kB)\n",
            "Collecting nvidia-cublas-cu12==12.4.5.8 (from torch)\n",
            "  Downloading nvidia_cublas_cu12-12.4.5.8-py3-none-manylinux2014_x86_64.whl.metadata (1.5 kB)\n",
            "Collecting nvidia-cufft-cu12==11.2.1.3 (from torch)\n",
            "  Downloading nvidia_cufft_cu12-11.2.1.3-py3-none-manylinux2014_x86_64.whl.metadata (1.5 kB)\n",
            "Collecting nvidia-curand-cu12==10.3.5.147 (from torch)\n",
            "  Downloading nvidia_curand_cu12-10.3.5.147-py3-none-manylinux2014_x86_64.whl.metadata (1.5 kB)\n",
            "Collecting nvidia-cusolver-cu12==11.6.1.9 (from torch)\n",
            "  Downloading nvidia_cusolver_cu12-11.6.1.9-py3-none-manylinux2014_x86_64.whl.metadata (1.6 kB)\n",
            "Collecting nvidia-cusparse-cu12==12.3.1.170 (from torch)\n",
            "  Downloading nvidia_cusparse_cu12-12.3.1.170-py3-none-manylinux2014_x86_64.whl.metadata (1.6 kB)\n",
            "Requirement already satisfied: nvidia-cusparselt-cu12==0.6.2 in /usr/local/lib/python3.11/dist-packages (from torch) (0.6.2)\n",
            "Requirement already satisfied: nvidia-nccl-cu12==2.21.5 in /usr/local/lib/python3.11/dist-packages (from torch) (2.21.5)\n",
            "Requirement already satisfied: nvidia-nvtx-cu12==12.4.127 in /usr/local/lib/python3.11/dist-packages (from torch) (12.4.127)\n",
            "Collecting nvidia-nvjitlink-cu12==12.4.127 (from torch)\n",
            "  Downloading nvidia_nvjitlink_cu12-12.4.127-py3-none-manylinux2014_x86_64.whl.metadata (1.5 kB)\n",
            "Requirement already satisfied: triton==3.2.0 in /usr/local/lib/python3.11/dist-packages (from torch) (3.2.0)\n",
            "Requirement already satisfied: sympy==1.13.1 in /usr/local/lib/python3.11/dist-packages (from torch) (1.13.1)\n",
            "Requirement already satisfied: mpmath<1.4,>=1.1.0 in /usr/local/lib/python3.11/dist-packages (from sympy==1.13.1->torch) (1.3.0)\n",
            "Requirement already satisfied: MarkupSafe>=2.0 in /usr/local/lib/python3.11/dist-packages (from jinja2->torch) (3.0.2)\n",
            "Downloading nvidia_cublas_cu12-12.4.5.8-py3-none-manylinux2014_x86_64.whl (363.4 MB)\n",
            "\u001b[2K   \u001b[90m━━━━━━━━━━━━━━━━━━━━━━━━━━━━━━━━━━━━━━━━\u001b[0m \u001b[32m363.4/363.4 MB\u001b[0m \u001b[31m3.2 MB/s\u001b[0m eta \u001b[36m0:00:00\u001b[0m\n",
            "\u001b[?25hDownloading nvidia_cuda_cupti_cu12-12.4.127-py3-none-manylinux2014_x86_64.whl (13.8 MB)\n",
            "\u001b[2K   \u001b[90m━━━━━━━━━━━━━━━━━━━━━━━━━━━━━━━━━━━━━━━━\u001b[0m \u001b[32m13.8/13.8 MB\u001b[0m \u001b[31m60.3 MB/s\u001b[0m eta \u001b[36m0:00:00\u001b[0m\n",
            "\u001b[?25hDownloading nvidia_cuda_nvrtc_cu12-12.4.127-py3-none-manylinux2014_x86_64.whl (24.6 MB)\n",
            "\u001b[2K   \u001b[90m━━━━━━━━━━━━━━━━━━━━━━━━━━━━━━━━━━━━━━━━\u001b[0m \u001b[32m24.6/24.6 MB\u001b[0m \u001b[31m65.3 MB/s\u001b[0m eta \u001b[36m0:00:00\u001b[0m\n",
            "\u001b[?25hDownloading nvidia_cuda_runtime_cu12-12.4.127-py3-none-manylinux2014_x86_64.whl (883 kB)\n",
            "\u001b[2K   \u001b[90m━━━━━━━━━━━━━━━━━━━━━━━━━━━━━━━━━━━━━━━━\u001b[0m \u001b[32m883.7/883.7 kB\u001b[0m \u001b[31m49.7 MB/s\u001b[0m eta \u001b[36m0:00:00\u001b[0m\n",
            "\u001b[?25hDownloading nvidia_cudnn_cu12-9.1.0.70-py3-none-manylinux2014_x86_64.whl (664.8 MB)\n",
            "\u001b[2K   \u001b[90m━━━━━━━━━━━━━━━━━━━━━━━━━━━━━━━━━━━━━━━━\u001b[0m \u001b[32m664.8/664.8 MB\u001b[0m \u001b[31m2.1 MB/s\u001b[0m eta \u001b[36m0:00:00\u001b[0m\n",
            "\u001b[?25hDownloading nvidia_cufft_cu12-11.2.1.3-py3-none-manylinux2014_x86_64.whl (211.5 MB)\n",
            "\u001b[2K   \u001b[90m━━━━━━━━━━━━━━━━━━━━━━━━━━━━━━━━━━━━━━━━\u001b[0m \u001b[32m211.5/211.5 MB\u001b[0m \u001b[31m5.7 MB/s\u001b[0m eta \u001b[36m0:00:00\u001b[0m\n",
            "\u001b[?25hDownloading nvidia_curand_cu12-10.3.5.147-py3-none-manylinux2014_x86_64.whl (56.3 MB)\n",
            "\u001b[2K   \u001b[90m━━━━━━━━━━━━━━━━━━━━━━━━━━━━━━━━━━━━━━━━\u001b[0m \u001b[32m56.3/56.3 MB\u001b[0m \u001b[31m13.1 MB/s\u001b[0m eta \u001b[36m0:00:00\u001b[0m\n",
            "\u001b[?25hDownloading nvidia_cusolver_cu12-11.6.1.9-py3-none-manylinux2014_x86_64.whl (127.9 MB)\n",
            "\u001b[2K   \u001b[90m━━━━━━━━━━━━━━━━━━━━━━━━━━━━━━━━━━━━━━━━\u001b[0m \u001b[32m127.9/127.9 MB\u001b[0m \u001b[31m7.9 MB/s\u001b[0m eta \u001b[36m0:00:00\u001b[0m\n",
            "\u001b[?25hDownloading nvidia_cusparse_cu12-12.3.1.170-py3-none-manylinux2014_x86_64.whl (207.5 MB)\n",
            "\u001b[2K   \u001b[90m━━━━━━━━━━━━━━━━━━━━━━━━━━━━━━━━━━━━━━━━\u001b[0m \u001b[32m207.5/207.5 MB\u001b[0m \u001b[31m5.9 MB/s\u001b[0m eta \u001b[36m0:00:00\u001b[0m\n",
            "\u001b[?25hDownloading nvidia_nvjitlink_cu12-12.4.127-py3-none-manylinux2014_x86_64.whl (21.1 MB)\n",
            "\u001b[2K   \u001b[90m━━━━━━━━━━━━━━━━━━━━━━━━━━━━━━━━━━━━━━━━\u001b[0m \u001b[32m21.1/21.1 MB\u001b[0m \u001b[31m83.4 MB/s\u001b[0m eta \u001b[36m0:00:00\u001b[0m\n",
            "\u001b[?25hInstalling collected packages: nvidia-nvjitlink-cu12, nvidia-curand-cu12, nvidia-cufft-cu12, nvidia-cuda-runtime-cu12, nvidia-cuda-nvrtc-cu12, nvidia-cuda-cupti-cu12, nvidia-cublas-cu12, nvidia-cusparse-cu12, nvidia-cudnn-cu12, nvidia-cusolver-cu12\n",
            "  Attempting uninstall: nvidia-nvjitlink-cu12\n",
            "    Found existing installation: nvidia-nvjitlink-cu12 12.5.82\n",
            "    Uninstalling nvidia-nvjitlink-cu12-12.5.82:\n",
            "      Successfully uninstalled nvidia-nvjitlink-cu12-12.5.82\n",
            "  Attempting uninstall: nvidia-curand-cu12\n",
            "    Found existing installation: nvidia-curand-cu12 10.3.6.82\n",
            "    Uninstalling nvidia-curand-cu12-10.3.6.82:\n",
            "      Successfully uninstalled nvidia-curand-cu12-10.3.6.82\n",
            "  Attempting uninstall: nvidia-cufft-cu12\n",
            "    Found existing installation: nvidia-cufft-cu12 11.2.3.61\n",
            "    Uninstalling nvidia-cufft-cu12-11.2.3.61:\n",
            "      Successfully uninstalled nvidia-cufft-cu12-11.2.3.61\n",
            "  Attempting uninstall: nvidia-cuda-runtime-cu12\n",
            "    Found existing installation: nvidia-cuda-runtime-cu12 12.5.82\n",
            "    Uninstalling nvidia-cuda-runtime-cu12-12.5.82:\n",
            "      Successfully uninstalled nvidia-cuda-runtime-cu12-12.5.82\n",
            "  Attempting uninstall: nvidia-cuda-nvrtc-cu12\n",
            "    Found existing installation: nvidia-cuda-nvrtc-cu12 12.5.82\n",
            "    Uninstalling nvidia-cuda-nvrtc-cu12-12.5.82:\n",
            "      Successfully uninstalled nvidia-cuda-nvrtc-cu12-12.5.82\n",
            "  Attempting uninstall: nvidia-cuda-cupti-cu12\n",
            "    Found existing installation: nvidia-cuda-cupti-cu12 12.5.82\n",
            "    Uninstalling nvidia-cuda-cupti-cu12-12.5.82:\n",
            "      Successfully uninstalled nvidia-cuda-cupti-cu12-12.5.82\n",
            "  Attempting uninstall: nvidia-cublas-cu12\n",
            "    Found existing installation: nvidia-cublas-cu12 12.5.3.2\n",
            "    Uninstalling nvidia-cublas-cu12-12.5.3.2:\n",
            "      Successfully uninstalled nvidia-cublas-cu12-12.5.3.2\n",
            "  Attempting uninstall: nvidia-cusparse-cu12\n",
            "    Found existing installation: nvidia-cusparse-cu12 12.5.1.3\n",
            "    Uninstalling nvidia-cusparse-cu12-12.5.1.3:\n",
            "      Successfully uninstalled nvidia-cusparse-cu12-12.5.1.3\n",
            "  Attempting uninstall: nvidia-cudnn-cu12\n",
            "    Found existing installation: nvidia-cudnn-cu12 9.3.0.75\n",
            "    Uninstalling nvidia-cudnn-cu12-9.3.0.75:\n",
            "      Successfully uninstalled nvidia-cudnn-cu12-9.3.0.75\n",
            "  Attempting uninstall: nvidia-cusolver-cu12\n",
            "    Found existing installation: nvidia-cusolver-cu12 11.6.3.83\n",
            "    Uninstalling nvidia-cusolver-cu12-11.6.3.83:\n",
            "      Successfully uninstalled nvidia-cusolver-cu12-11.6.3.83\n",
            "Successfully installed nvidia-cublas-cu12-12.4.5.8 nvidia-cuda-cupti-cu12-12.4.127 nvidia-cuda-nvrtc-cu12-12.4.127 nvidia-cuda-runtime-cu12-12.4.127 nvidia-cudnn-cu12-9.1.0.70 nvidia-cufft-cu12-11.2.1.3 nvidia-curand-cu12-10.3.5.147 nvidia-cusolver-cu12-11.6.1.9 nvidia-cusparse-cu12-12.3.1.170 nvidia-nvjitlink-cu12-12.4.127\n"
          ]
        }
      ],
      "execution_count": 1,
      "source": [
        "!pip install torch"
      ],
      "id": "512c1f7af3247b1e"
    },
    {
      "metadata": {
        "id": "8c469f9f8f97d110",
        "ExecuteTime": {
          "end_time": "2025-08-03T16:54:58.910247Z",
          "start_time": "2025-08-03T16:54:57.789971Z"
        }
      },
      "cell_type": "code",
      "source": [
        "import torch\n",
        "import torch.nn as nn\n",
        "import torch.nn.functional as F"
      ],
      "id": "8c469f9f8f97d110",
      "outputs": [],
      "execution_count": 2
    },
    {
      "metadata": {
        "colab": {
          "base_uri": "https://localhost:8080/"
        },
        "id": "611138960e33de73",
        "outputId": "50f57cf9-4708-4af2-94db-419dd59af518",
        "ExecuteTime": {
          "end_time": "2025-08-03T16:55:12.246354Z",
          "start_time": "2025-08-03T16:55:07.869179Z"
        }
      },
      "cell_type": "code",
      "source": [
        "# Xác định thiết bị tính toán\n",
        "device = torch.device(\"cuda\" if torch.cuda.is_available() else \"cpu\")\n",
        "print(f\"[INFO] Sử dụng thiết bị: {device}\")"
      ],
      "id": "611138960e33de73",
      "outputs": [
        {
          "output_type": "stream",
          "name": "stdout",
          "text": [
            "[INFO] Sử dụng thiết bị: cuda\n"
          ]
        }
      ],
      "execution_count": 3
    },
    {
      "metadata": {
        "id": "d6a375ae27e2b41e",
        "ExecuteTime": {
          "end_time": "2025-08-03T16:55:14.057113Z",
          "start_time": "2025-08-03T16:55:14.052011Z"
        }
      },
      "cell_type": "code",
      "source": [
        "class ScaledUpDigitClassifierCNN(nn.Module):\n",
        "    \"\"\"\n",
        "    Mạng CNN được với nhiều lớp và neuron.\n",
        "    \"\"\"\n",
        "    def __init__(self):\n",
        "        super(ScaledUpDigitClassifierCNN, self).__init__()\n",
        "        # Conv Layer 1: Nhận ảnh xám (1 channel), tạo 64 feature maps.\n",
        "        self.conv1 = nn.Conv2d(in_channels=1, out_channels=64, kernel_size=3, padding=1)\n",
        "        self.bn1 = nn.BatchNorm2d(num_features=64)\n",
        "\n",
        "        # Conv Layer 2: 64 input -> 64 output feature maps.\n",
        "        self.conv2 = nn.Conv2d(in_channels=64, out_channels=64, kernel_size=3, padding=1)\n",
        "        self.bn2 = nn.BatchNorm2d(num_features=64)\n",
        "\n",
        "        # Conv Layer 3: 64 input -> 128 output feature maps.\n",
        "        self.conv3 = nn.Conv2d(in_channels=64, out_channels=128, kernel_size=3, padding=1)\n",
        "        self.bn3 = nn.BatchNorm2d(num_features=128)\n",
        "\n",
        "        # Conv Layer 4: 128 input -> 128 output feature maps.\n",
        "        self.conv4 = nn.Conv2d(in_channels=128, out_channels=128, kernel_size=3, padding=1)\n",
        "        self.bn4 = nn.BatchNorm2d(num_features=128)\n",
        "\n",
        "        # Dropout cho phần tích chập để tránh overfitting.\n",
        "        self.dropout_conv = nn.Dropout2d(p=0.25)\n",
        "\n",
        "        # Sau 2 lần MaxPool2d, kích thước ảnh là 7x7.\n",
        "        # Tổng số feature: 128 * 7 * 7 = 6272\n",
        "        self.fc1 = nn.Linear(in_features=128 * 7 * 7, out_features=512)\n",
        "        self.bn_fc1 = nn.BatchNorm1d(num_features=512)\n",
        "        self.dropout_fc1 = nn.Dropout(p=0.5)\n",
        "\n",
        "        self.fc2 = nn.Linear(in_features=512, out_features=256)\n",
        "        self.bn_fc2 = nn.BatchNorm1d(num_features=256)\n",
        "        self.dropout_fc2 = nn.Dropout(p=0.5)\n",
        "\n",
        "        # Lớp output cuối cùng: 10 units cho 10 lớp chữ số (0-9).\n",
        "        self.fc3 = nn.Linear(in_features=256, out_features=10)\n",
        "\n",
        "    def forward(self, x):\n",
        "        \"\"\"\n",
        "        Định nghĩa cách dữ liệu đi qua mạng (forward pass).\n",
        "        \"\"\"\n",
        "        # Conv1 -> BatchNorm -> ReLU\n",
        "        x = F.relu(self.bn1(self.conv1(x)))\n",
        "        # Conv2 -> BatchNorm -> ReLU\n",
        "        x = F.relu(self.bn2(self.conv2(x)))\n",
        "        # Max Pooling: Giảm kích thước không gian xuống 1 nửa (28x28 -> 14x14).\n",
        "        x = F.max_pool2d(input=x, kernel_size=2)\n",
        "        # Dropout để tránh overfitting.\n",
        "        x = self.dropout_conv(x)\n",
        "\n",
        "        # Conv3 -> BatchNorm -> ReLU\n",
        "        x = F.relu(self.bn3(self.conv3(x)))\n",
        "        # Conv4 -> BatchNorm -> ReLU\n",
        "        x = F.relu(self.bn4(self.conv4(x)))\n",
        "        # Max Pooling: (14x14 -> 7x7).\n",
        "        x = F.max_pool2d(input=x, kernel_size=2)\n",
        "        # Dropout.\n",
        "        x = self.dropout_conv(x)\n",
        "\n",
        "        # Flatten tensor từ 4D (batch, channel, height, width) về 2D (batch, features).\n",
        "        x = torch.flatten(input=x, start_dim=1)\n",
        "\n",
        "        # FC1 -> BatchNorm -> ReLU -> Dropout\n",
        "        x = F.relu(self.bn_fc1(self.fc1(x)))\n",
        "        x = self.dropout_fc1(x)\n",
        "\n",
        "        # FC2 -> BatchNorm -> ReLU -> Dropout\n",
        "        x = F.relu(self.bn_fc2(self.fc2(x)))\n",
        "        x = self.dropout_fc2(x)\n",
        "\n",
        "        # Lớp output cuối cùng. Trả về logits (raw scores).\n",
        "        x = self.fc3(x)\n",
        "\n",
        "        return x"
      ],
      "id": "d6a375ae27e2b41e",
      "outputs": [],
      "execution_count": 4
    },
    {
      "metadata": {
        "id": "e27f79e232ecc2de"
      },
      "cell_type": "markdown",
      "source": [
        "## PHẦN 2: CHUẨN BỊ DỮ LIỆU\n",
        "\n",
        "### Mục đích:\n",
        "Tải và tiền xử lý bộ dữ liệu MNIST để sẵn sàng cho huấn luyện."
      ],
      "id": "e27f79e232ecc2de"
    },
    {
      "metadata": {
        "colab": {
          "base_uri": "https://localhost:8080/"
        },
        "id": "8bf1f8669efbe149",
        "outputId": "bc0adfa1-3f19-4166-c965-93778a0250a4"
      },
      "cell_type": "code",
      "outputs": [
        {
          "output_type": "stream",
          "name": "stdout",
          "text": [
            "Requirement already satisfied: torchvision in /usr/local/lib/python3.11/dist-packages (0.21.0+cu124)\n",
            "Requirement already satisfied: numpy in /usr/local/lib/python3.11/dist-packages (from torchvision) (2.0.2)\n",
            "Requirement already satisfied: torch==2.6.0 in /usr/local/lib/python3.11/dist-packages (from torchvision) (2.6.0+cu124)\n",
            "Requirement already satisfied: pillow!=8.3.*,>=5.3.0 in /usr/local/lib/python3.11/dist-packages (from torchvision) (11.3.0)\n",
            "Requirement already satisfied: filelock in /usr/local/lib/python3.11/dist-packages (from torch==2.6.0->torchvision) (3.18.0)\n",
            "Requirement already satisfied: typing-extensions>=4.10.0 in /usr/local/lib/python3.11/dist-packages (from torch==2.6.0->torchvision) (4.14.1)\n",
            "Requirement already satisfied: networkx in /usr/local/lib/python3.11/dist-packages (from torch==2.6.0->torchvision) (3.5)\n",
            "Requirement already satisfied: jinja2 in /usr/local/lib/python3.11/dist-packages (from torch==2.6.0->torchvision) (3.1.6)\n",
            "Requirement already satisfied: fsspec in /usr/local/lib/python3.11/dist-packages (from torch==2.6.0->torchvision) (2025.3.0)\n",
            "Requirement already satisfied: nvidia-cuda-nvrtc-cu12==12.4.127 in /usr/local/lib/python3.11/dist-packages (from torch==2.6.0->torchvision) (12.4.127)\n",
            "Requirement already satisfied: nvidia-cuda-runtime-cu12==12.4.127 in /usr/local/lib/python3.11/dist-packages (from torch==2.6.0->torchvision) (12.4.127)\n",
            "Requirement already satisfied: nvidia-cuda-cupti-cu12==12.4.127 in /usr/local/lib/python3.11/dist-packages (from torch==2.6.0->torchvision) (12.4.127)\n",
            "Requirement already satisfied: nvidia-cudnn-cu12==9.1.0.70 in /usr/local/lib/python3.11/dist-packages (from torch==2.6.0->torchvision) (9.1.0.70)\n",
            "Requirement already satisfied: nvidia-cublas-cu12==12.4.5.8 in /usr/local/lib/python3.11/dist-packages (from torch==2.6.0->torchvision) (12.4.5.8)\n",
            "Requirement already satisfied: nvidia-cufft-cu12==11.2.1.3 in /usr/local/lib/python3.11/dist-packages (from torch==2.6.0->torchvision) (11.2.1.3)\n",
            "Requirement already satisfied: nvidia-curand-cu12==10.3.5.147 in /usr/local/lib/python3.11/dist-packages (from torch==2.6.0->torchvision) (10.3.5.147)\n",
            "Requirement already satisfied: nvidia-cusolver-cu12==11.6.1.9 in /usr/local/lib/python3.11/dist-packages (from torch==2.6.0->torchvision) (11.6.1.9)\n",
            "Requirement already satisfied: nvidia-cusparse-cu12==12.3.1.170 in /usr/local/lib/python3.11/dist-packages (from torch==2.6.0->torchvision) (12.3.1.170)\n",
            "Requirement already satisfied: nvidia-cusparselt-cu12==0.6.2 in /usr/local/lib/python3.11/dist-packages (from torch==2.6.0->torchvision) (0.6.2)\n",
            "Requirement already satisfied: nvidia-nccl-cu12==2.21.5 in /usr/local/lib/python3.11/dist-packages (from torch==2.6.0->torchvision) (2.21.5)\n",
            "Requirement already satisfied: nvidia-nvtx-cu12==12.4.127 in /usr/local/lib/python3.11/dist-packages (from torch==2.6.0->torchvision) (12.4.127)\n",
            "Requirement already satisfied: nvidia-nvjitlink-cu12==12.4.127 in /usr/local/lib/python3.11/dist-packages (from torch==2.6.0->torchvision) (12.4.127)\n",
            "Requirement already satisfied: triton==3.2.0 in /usr/local/lib/python3.11/dist-packages (from torch==2.6.0->torchvision) (3.2.0)\n",
            "Requirement already satisfied: sympy==1.13.1 in /usr/local/lib/python3.11/dist-packages (from torch==2.6.0->torchvision) (1.13.1)\n",
            "Requirement already satisfied: mpmath<1.4,>=1.1.0 in /usr/local/lib/python3.11/dist-packages (from sympy==1.13.1->torch==2.6.0->torchvision) (1.3.0)\n",
            "Requirement already satisfied: MarkupSafe>=2.0 in /usr/local/lib/python3.11/dist-packages (from jinja2->torch==2.6.0->torchvision) (3.0.2)\n"
          ]
        }
      ],
      "execution_count": 5,
      "source": [
        "!pip install torchvision"
      ],
      "id": "8bf1f8669efbe149"
    },
    {
      "metadata": {
        "id": "49d77163f692860c",
        "ExecuteTime": {
          "end_time": "2025-08-03T16:55:22.005875Z",
          "start_time": "2025-08-03T16:55:21.124131Z"
        }
      },
      "cell_type": "code",
      "source": [
        "from torchvision import datasets, transforms"
      ],
      "id": "49d77163f692860c",
      "outputs": [],
      "execution_count": 6
    },
    {
      "metadata": {
        "id": "a8f992444d440241"
      },
      "cell_type": "markdown",
      "source": [
        "### Các bước:\n",
        "1.  **Transforms:** Chuẩn hóa và chuyển đổi dữ liệu.\n",
        "    *   `ToTensor()`: Chuyển ảnh PIL thành `torch.Tensor` và scale pixel về [0, 1].\n",
        "    *   `Normalize(mean, std)`: Chuẩn hóa theo thống kê của MNIST. Điều này rất quan trọng để mô hình học hiệu quả.\n",
        "2.  **Datasets:** Tải dữ liệu huấn luyện và kiểm tra từ `torchvision.datasets`.\n",
        "3.  **DataLoader:** Gói dữ liệu thành các `batch` để huấn luyện hiệu quả."
      ],
      "id": "a8f992444d440241"
    },
    {
      "metadata": {
        "colab": {
          "base_uri": "https://localhost:8080/"
        },
        "id": "451fbaea05152f8e",
        "outputId": "3415c51c-6604-4713-b6b8-25f8b287f3b0",
        "ExecuteTime": {
          "end_time": "2025-08-03T16:55:26.634489Z",
          "start_time": "2025-08-03T16:55:26.583034Z"
        }
      },
      "cell_type": "code",
      "source": [
        "# `transforms.Compose` kết hợp nhiều phép biến đổi lại.\n",
        "transform = transforms.Compose([\n",
        "    transforms.ToTensor(),\n",
        "    transforms.Normalize(mean=(0.1307,), std=(0.3081,))\n",
        "])\n",
        "\n",
        "# Tải Dữ liệu\n",
        "train_dataset = datasets.MNIST(root='./data', train=True, download=True, transform=transform)\n",
        "test_dataset = datasets.MNIST(root='./data', train=False, download=True, transform=transform)\n",
        "\n",
        "# Tạo DataLoader\n",
        "train_loader = torch.utils.data.DataLoader(dataset=train_dataset, batch_size=64, shuffle=True)\n",
        "test_loader = torch.utils.data.DataLoader(dataset=test_dataset, batch_size=1000, shuffle=False)\n",
        "\n",
        "print(f\"[INFO] Đã tải xong dữ liệu.\")\n",
        "print(f\"  - Số lượng mẫu huấn luyện: {len(train_dataset)}\")\n",
        "print(f\"  - Số lượng mẫu kiểm tra: {len(test_dataset)}\")\n",
        "print(f\"  - Kích thước batch: {train_loader.batch_size}\")"
      ],
      "id": "451fbaea05152f8e",
      "outputs": [
        {
          "output_type": "stream",
          "name": "stderr",
          "text": [
            "100%|██████████| 9.91M/9.91M [00:00<00:00, 18.1MB/s]\n",
            "100%|██████████| 28.9k/28.9k [00:00<00:00, 481kB/s]\n",
            "100%|██████████| 1.65M/1.65M [00:00<00:00, 4.44MB/s]\n",
            "100%|██████████| 4.54k/4.54k [00:00<00:00, 8.96MB/s]\n"
          ]
        },
        {
          "output_type": "stream",
          "name": "stdout",
          "text": [
            "[INFO] Đã tải xong dữ liệu.\n",
            "  - Số lượng mẫu huấn luyện: 60000\n",
            "  - Số lượng mẫu kiểm tra: 10000\n",
            "  - Kích thước batch: 64\n"
          ]
        }
      ],
      "execution_count": 7
    },
    {
      "metadata": {
        "id": "41fde4e06d75418a"
      },
      "cell_type": "markdown",
      "source": [
        "## PHẦN 3: KHỞI TẠO MÔ HÌNH, TỐI ƯU HÓA VÀ HÀM MẤT MÁT\n",
        "\n",
        "### Mục đích:\n",
        "Tạo một instance của mô hình, chọn thuật toán tối ưu và hàm đánh giá hiệu suất."
      ],
      "id": "41fde4e06d75418a"
    },
    {
      "metadata": {
        "id": "cfc0e79023fa5092",
        "ExecuteTime": {
          "end_time": "2025-08-03T16:55:34.001779Z",
          "start_time": "2025-08-03T16:55:33.999894Z"
        }
      },
      "cell_type": "code",
      "source": [
        "import torch.optim as optim"
      ],
      "id": "cfc0e79023fa5092",
      "outputs": [],
      "execution_count": 8
    },
    {
      "metadata": {
        "id": "2049076e11a69e71"
      },
      "cell_type": "markdown",
      "source": [
        "### Các thành phần:\n",
        "1.  **Mô hình (`model`)**: Instance của `ScaledUpDigitClassifierCNN`.\n",
        "2.  **Tối ưu hóa (`optimizer`)**: `Adam` là một optimizer phổ biến, hiệu quả và dễ dùng.\n",
        "3.  **Hàm mất mát (`criterion`)**: `CrossEntropyLoss` phù hợp cho bài toán phân loại nhiều lớp với output là logits."
      ],
      "id": "2049076e11a69e71"
    },
    {
      "metadata": {
        "colab": {
          "base_uri": "https://localhost:8080/"
        },
        "id": "74b7a98d47ac1129",
        "outputId": "1e8e421d-918b-4000-c291-d0c74cda9441",
        "ExecuteTime": {
          "end_time": "2025-08-03T16:55:35.318497Z",
          "start_time": "2025-08-03T16:55:35.290944Z"
        }
      },
      "cell_type": "code",
      "source": [
        "model = ScaledUpDigitClassifierCNN().to(device)\n",
        "optimizer = optim.Adam(params=model.parameters(), lr=0.001)\n",
        "criterion = nn.CrossEntropyLoss()\n",
        "\n",
        "print(f\"[INFO] Mô hình, optimizer và loss function đã sẵn sàng.\")\n",
        "print(f\"  - Tổng số tham số của mô hình: {sum(p.numel() for p in model.parameters()):,}\")"
      ],
      "id": "74b7a98d47ac1129",
      "outputs": [
        {
          "output_type": "stream",
          "name": "stdout",
          "text": [
            "[INFO] Mô hình, optimizer và loss function đã sẵn sàng.\n",
            "  - Tổng số tham số của mô hình: 3,606,986\n"
          ]
        }
      ],
      "execution_count": 9
    },
    {
      "metadata": {
        "id": "6f8133c686c2c01b"
      },
      "cell_type": "markdown",
      "source": [
        "## PHẦN 4: HÀM HUẤN LUYỆN (TRAINING LOOP)\n",
        "\n",
        "### Mục đích:\n",
        "Thực hiện một vòng lặp (epoch) để huấn luyện mô hình trên dữ liệu.\n",
        "\n",
        "### Quy trình trong một epoch:\n",
        "1.  **Đặt mô hình về chế độ huấn luyện** (`model.train()`).\n",
        "2.  **Lặp qua từng batch dữ liệu** từ `train_loader`.\n",
        "3.  **Zero Gradients**: Xóa gradient tích lũy từ lần trước.\n",
        "4.  **Forward Pass**: Đưa dữ liệu qua mô hình để nhận dự đoán (logits).\n",
        "5.  **Tính Loss**: So sánh dự đoán với nhãn thật.\n",
        "6.  **Backward Pass**: Tính gradient của loss theo tất cả các tham số.\n",
        "7.  **Optimizer Step**: Cập nhật các tham số theo gradient.\n",
        "8.  **In tiến trình**: Hiển thị loss định kỳ."
      ],
      "id": "6f8133c686c2c01b"
    },
    {
      "metadata": {
        "id": "e1baae17d140944d"
      },
      "cell_type": "code",
      "outputs": [],
      "execution_count": 10,
      "source": [
        "def train(model, device, train_loader, optimizer, epoch):\n",
        "    model.train()\n",
        "\n",
        "    for batch_idx, (data, target) in enumerate(train_loader):\n",
        "        data, target = data.to(device), target.to(device)\n",
        "        optimizer.zero_grad()\n",
        "        output = model(data)\n",
        "        loss = criterion(output, target)\n",
        "        loss.backward()\n",
        "        optimizer.step()\n",
        "        if batch_idx % 100 == 0:\n",
        "            print(f'Train Epoch: {epoch} '\n",
        "                  f'[{batch_idx * len(data)}/{len(train_loader.dataset)} '\n",
        "                  f'({100. * batch_idx / len(train_loader):.0f}%)]\\t'\n",
        "                  f'Loss: {loss.item():.6f}')"
      ],
      "id": "e1baae17d140944d"
    },
    {
      "metadata": {
        "id": "d1d409f506388124"
      },
      "cell_type": "markdown",
      "source": [
        "## PHẦN 5: HÀM KIỂM TRA (EVALUATION LOOP)\n",
        "\n",
        "### Mục đích:\n",
        "Đánh giá hiệu suất của mô hình trên tập dữ liệu kiểm tra sau mỗi epoch.\n",
        "\n",
        "### Quy trình:\n",
        "1.  **Đặt mô hình về chế độ đánh giá** (`model.eval()`).\n",
        "2.  **Tắt tính toán gradient** (`torch.no_grad()`).\n",
        "3.  **Lặp qua từng batch** trong `test_loader`.\n",
        "4.  **Forward Pass**: Nhận dự đoán.\n",
        "5.  **Tính Loss**: Tổng hợp loss trung bình.\n",
        "6.  **Tính Độ chính xác**: So sánh dự đoán với nhãn thật.\n",
        "7.  **Trả về độ chính xác** để lưu mô hình tốt nhất."
      ],
      "id": "d1d409f506388124"
    },
    {
      "metadata": {
        "id": "2996fec0649ab5a2",
        "ExecuteTime": {
          "end_time": "2025-08-03T16:55:41.933833Z",
          "start_time": "2025-08-03T16:55:41.930411Z"
        }
      },
      "cell_type": "code",
      "source": [
        "def test(model, device, test_loader):\n",
        "    model.eval()\n",
        "\n",
        "    test_loss = 0\n",
        "    correct = 0\n",
        "\n",
        "    with torch.no_grad():\n",
        "        for data, target in test_loader:\n",
        "            data, target = data.to(device), target.to(device)\n",
        "            output = model(data)\n",
        "            test_loss += criterion(output, target).item()\n",
        "            pred = output.argmax(dim=1, keepdim=True)\n",
        "            correct += pred.eq(target.view_as(pred)).sum().item()\n",
        "\n",
        "    test_loss /= len(test_loader.dataset)\n",
        "    accuracy = 100. * correct / len(test_loader.dataset)\n",
        "\n",
        "    print(f'\\nTest set: Average loss: {test_loss:.4f}, '\n",
        "          f'Accuracy: {correct}/{len(test_loader.dataset)} ({accuracy:.2f}%)\\n')\n",
        "\n",
        "    return accuracy"
      ],
      "id": "2996fec0649ab5a2",
      "outputs": [],
      "execution_count": 11
    },
    {
      "metadata": {
        "id": "621089b57152b87f"
      },
      "cell_type": "markdown",
      "source": [
        "## PHẦN 6: HUẤN LUYỆN VÀ ĐÁNH GIÁ MÔ HÌNH\n",
        "\n",
        "### Mục đích:\n",
        "Thực hiện toàn bộ quá trình huấn luyện qua nhiều epoch và lưu lại mô hình tốt nhất.\n",
        "\n",
        "### Quy trình:\n",
        "1.  **Xác định số lượng epoch.**\n",
        "2.  **Khởi tạo biến `best_accuracy`.**\n",
        "3.  **Lặp qua từng epoch:**\n",
        "    *   Gọi `train()` để huấn luyện.\n",
        "    *   Gọi `test()` để đánh giá.\n",
        "    *   So sánh độ chính xác mới với `best_accuracy`.\n",
        "    *   Nếu tốt hơn, lưu mô hình (`torch.save`).\n",
        "4.  **Kết thúc và thông báo.**"
      ],
      "id": "621089b57152b87f"
    },
    {
      "metadata": {
        "colab": {
          "base_uri": "https://localhost:8080/"
        },
        "id": "d8f1f3191800cbee",
        "outputId": "24edd489-8ed5-4d80-a06e-5cbf77a321bc"
      },
      "cell_type": "code",
      "outputs": [
        {
          "output_type": "stream",
          "name": "stdout",
          "text": [
            "[INFO] Bắt đầu huấn luyện trong 5 epochs...\n",
            "Train Epoch: 1 [0/60000 (0%)]\tLoss: 2.428702\n",
            "Train Epoch: 1 [6400/60000 (11%)]\tLoss: 0.069395\n",
            "Train Epoch: 1 [12800/60000 (21%)]\tLoss: 0.105902\n",
            "Train Epoch: 1 [19200/60000 (32%)]\tLoss: 0.079707\n",
            "Train Epoch: 1 [25600/60000 (43%)]\tLoss: 0.096613\n",
            "Train Epoch: 1 [32000/60000 (53%)]\tLoss: 0.068019\n",
            "Train Epoch: 1 [38400/60000 (64%)]\tLoss: 0.026366\n",
            "Train Epoch: 1 [44800/60000 (75%)]\tLoss: 0.099481\n",
            "Train Epoch: 1 [51200/60000 (85%)]\tLoss: 0.033545\n",
            "Train Epoch: 1 [57600/60000 (96%)]\tLoss: 0.108306\n",
            "\n",
            "Test set: Average loss: 0.0000, Accuracy: 9891/10000 (98.91%)\n",
            "\n",
            "[INFO] Độ chính xác mới cao nhất: 98.91%. Đã lưu mô hình.\n",
            "Train Epoch: 2 [0/60000 (0%)]\tLoss: 0.067691\n",
            "Train Epoch: 2 [6400/60000 (11%)]\tLoss: 0.005592\n",
            "Train Epoch: 2 [12800/60000 (21%)]\tLoss: 0.017525\n",
            "Train Epoch: 2 [19200/60000 (32%)]\tLoss: 0.015970\n",
            "Train Epoch: 2 [25600/60000 (43%)]\tLoss: 0.026549\n",
            "Train Epoch: 2 [32000/60000 (53%)]\tLoss: 0.029512\n",
            "Train Epoch: 2 [38400/60000 (64%)]\tLoss: 0.056576\n",
            "Train Epoch: 2 [44800/60000 (75%)]\tLoss: 0.101858\n",
            "Train Epoch: 2 [51200/60000 (85%)]\tLoss: 0.039993\n",
            "Train Epoch: 2 [57600/60000 (96%)]\tLoss: 0.009200\n",
            "\n",
            "Test set: Average loss: 0.0000, Accuracy: 9919/10000 (99.19%)\n",
            "\n",
            "[INFO] Độ chính xác mới cao nhất: 99.19%. Đã lưu mô hình.\n",
            "Train Epoch: 3 [0/60000 (0%)]\tLoss: 0.010082\n",
            "Train Epoch: 3 [6400/60000 (11%)]\tLoss: 0.012870\n",
            "Train Epoch: 3 [12800/60000 (21%)]\tLoss: 0.029422\n",
            "Train Epoch: 3 [19200/60000 (32%)]\tLoss: 0.011534\n",
            "Train Epoch: 3 [25600/60000 (43%)]\tLoss: 0.024633\n",
            "Train Epoch: 3 [32000/60000 (53%)]\tLoss: 0.014049\n",
            "Train Epoch: 3 [38400/60000 (64%)]\tLoss: 0.010245\n",
            "Train Epoch: 3 [44800/60000 (75%)]\tLoss: 0.008640\n",
            "Train Epoch: 3 [51200/60000 (85%)]\tLoss: 0.033995\n",
            "Train Epoch: 3 [57600/60000 (96%)]\tLoss: 0.001726\n",
            "\n",
            "Test set: Average loss: 0.0000, Accuracy: 9945/10000 (99.45%)\n",
            "\n",
            "[INFO] Độ chính xác mới cao nhất: 99.45%. Đã lưu mô hình.\n",
            "Train Epoch: 4 [0/60000 (0%)]\tLoss: 0.004721\n",
            "Train Epoch: 4 [6400/60000 (11%)]\tLoss: 0.044736\n",
            "Train Epoch: 4 [12800/60000 (21%)]\tLoss: 0.009358\n",
            "Train Epoch: 4 [19200/60000 (32%)]\tLoss: 0.001474\n",
            "Train Epoch: 4 [25600/60000 (43%)]\tLoss: 0.001569\n",
            "Train Epoch: 4 [32000/60000 (53%)]\tLoss: 0.005931\n",
            "Train Epoch: 4 [38400/60000 (64%)]\tLoss: 0.025386\n",
            "Train Epoch: 4 [44800/60000 (75%)]\tLoss: 0.076794\n",
            "Train Epoch: 4 [51200/60000 (85%)]\tLoss: 0.019134\n",
            "Train Epoch: 4 [57600/60000 (96%)]\tLoss: 0.055205\n",
            "\n",
            "Test set: Average loss: 0.0000, Accuracy: 9938/10000 (99.38%)\n",
            "\n",
            "Train Epoch: 5 [0/60000 (0%)]\tLoss: 0.004561\n",
            "Train Epoch: 5 [6400/60000 (11%)]\tLoss: 0.018031\n",
            "Train Epoch: 5 [12800/60000 (21%)]\tLoss: 0.010999\n",
            "Train Epoch: 5 [19200/60000 (32%)]\tLoss: 0.001066\n",
            "Train Epoch: 5 [25600/60000 (43%)]\tLoss: 0.003569\n",
            "Train Epoch: 5 [32000/60000 (53%)]\tLoss: 0.002098\n",
            "Train Epoch: 5 [38400/60000 (64%)]\tLoss: 0.030553\n",
            "Train Epoch: 5 [44800/60000 (75%)]\tLoss: 0.080812\n",
            "Train Epoch: 5 [51200/60000 (85%)]\tLoss: 0.006608\n",
            "Train Epoch: 5 [57600/60000 (96%)]\tLoss: 0.371681\n",
            "\n",
            "Test set: Average loss: 0.0000, Accuracy: 9941/10000 (99.41%)\n",
            "\n",
            "[INFO] ✅ Quá trình huấn luyện đã hoàn tất!\n"
          ]
        }
      ],
      "execution_count": 12,
      "source": [
        "num_epochs = 5\n",
        "best_accuracy = 0.0\n",
        "\n",
        "print(f\"[INFO] Bắt đầu huấn luyện trong {num_epochs} epochs...\")\n",
        "\n",
        "for epoch in range(1, num_epochs + 1):\n",
        "    train(model, device, train_loader, optimizer, epoch)\n",
        "    accuracy = test(model, device, test_loader)\n",
        "    if accuracy > best_accuracy:\n",
        "        best_accuracy = accuracy\n",
        "        torch.save(model.state_dict(), \"best_digit_classifier.pth\")\n",
        "        print(f\"[INFO] Độ chính xác mới cao nhất: {best_accuracy:.2f}%. Đã lưu mô hình.\")\n",
        "\n",
        "print(\"[INFO] ✅ Quá trình huấn luyện đã hoàn tất!\")"
      ],
      "id": "d8f1f3191800cbee"
    },
    {
      "metadata": {
        "id": "8df7f9bc866a40db"
      },
      "cell_type": "markdown",
      "source": [
        "## PHẦN 7: MÔ HÌNH PHỤ TRỢ ĐỂ PHÂN TÍCH FEATURE MAPS\n",
        "\n",
        "### Mục đích:\n",
        "Tạo một phiên bản đặc biệt của mô hình để có thể trích xuất các feature maps trung gian trong quá trình forward pass. Điều này giúp chúng ta \"nhìn thấy\" những gì mô hình học được.\n",
        "\n",
        "### Cách làm:\n",
        "1.  Tạo lớp `AnalysisNet` kế thừa `nn.Module`.\n",
        "2.  Sao chép các lớp từ mô hình gốc.\n",
        "3.  Ghi đè phương thức `forward` để lưu lại các tensor trung gian (`conv1_out`, `conv2_out`)."
      ],
      "id": "8df7f9bc866a40db"
    },
    {
      "metadata": {
        "colab": {
          "base_uri": "https://localhost:8080/"
        },
        "id": "5aec281448348dfe",
        "outputId": "532fc245-8702-4cc4-9033-5730f8716856",
        "ExecuteTime": {
          "end_time": "2025-08-03T16:55:47.116393Z",
          "start_time": "2025-08-03T16:55:47.111910Z"
        }
      },
      "cell_type": "code",
      "source": [
        "class AnalysisNet(nn.Module):\n",
        "    \"\"\"\n",
        "    Mô hình phụ trợ để lấy feature maps trung gian từ mô hình đã huấn luyện.\n",
        "    \"\"\"\n",
        "    def __init__(self, original_model):\n",
        "        super(AnalysisNet, self).__init__()\n",
        "        # Sao chép tất cả các lớp từ mô hình gốc (ScaledUpDigitClassifierCNN)\n",
        "        # Conv Block 1\n",
        "        self.conv1 = original_model.conv1\n",
        "        self.bn1 = original_model.bn1\n",
        "        self.conv2 = original_model.conv2\n",
        "        self.bn2 = original_model.bn2\n",
        "\n",
        "        # Conv Block 2\n",
        "        self.conv3 = original_model.conv3\n",
        "        self.bn3 = original_model.bn3\n",
        "        self.conv4 = original_model.conv4\n",
        "        self.bn4 = original_model.bn4\n",
        "\n",
        "        # Các lớp khác\n",
        "        self.dropout_conv = original_model.dropout_conv\n",
        "        self.fc1 = original_model.fc1\n",
        "        self.bn_fc1 = original_model.bn_fc1\n",
        "        self.dropout_fc1 = original_model.dropout_fc1\n",
        "        self.fc2 = original_model.fc2\n",
        "        self.bn_fc2 = original_model.bn_fc2\n",
        "        self.dropout_fc2 = original_model.dropout_fc2\n",
        "        self.fc3 = original_model.fc3\n",
        "\n",
        "    def forward(self, x):\n",
        "        \"\"\"\n",
        "        Forward pass với việc lưu lại feature maps trung gian.\n",
        "        \"\"\"\n",
        "        # Conv Block 1\n",
        "        x = F.relu(self.bn1(self.conv1(x)))\n",
        "        conv1_out = x # Lưu feature maps sau block 1\n",
        "        x = F.relu(self.bn2(self.conv2(x)))\n",
        "        x = F.max_pool2d(x, 2)\n",
        "        x = self.dropout_conv(x)\n",
        "\n",
        "        # Conv Block 2\n",
        "        x = F.relu(self.bn3(self.conv3(x)))\n",
        "        conv2_out = x # Lưu feature maps sau block 2\n",
        "        x = F.relu(self.bn4(self.conv4(x)))\n",
        "        x = F.max_pool2d(x, 2)\n",
        "        x = self.dropout_conv(x)\n",
        "\n",
        "        # Fully Connected Layers\n",
        "        x = torch.flatten(x, 1)\n",
        "        x = F.relu(self.bn_fc1(self.fc1(x)))\n",
        "        x = self.dropout_fc1(x)\n",
        "        x = F.relu(self.bn_fc2(self.fc2(x)))\n",
        "        x = self.dropout_fc2(x)\n",
        "        final_out = self.fc3(x) # Logits cuối cùng\n",
        "\n",
        "        # Trả về output và các feature map trung gian\n",
        "        return final_out, conv1_out, conv2_out\n",
        "\n",
        "print(\"[INFO] ✅ Đã định nghĩa AnalysisNet.\")"
      ],
      "id": "5aec281448348dfe",
      "outputs": [
        {
          "output_type": "stream",
          "name": "stdout",
          "text": [
            "[INFO] ✅ Đã định nghĩa AnalysisNet.\n"
          ]
        }
      ],
      "execution_count": 13
    },
    {
      "metadata": {
        "id": "cef0c59819eb143f"
      },
      "cell_type": "markdown",
      "source": [
        "## PHẦN 8: HÀM PHÂN TÍCH VÀ DỰ ĐOÁN\n",
        "\n",
        "### Mục đích:\n",
        "Sử dụng `AnalysisNet` để phân tích một hình ảnh đầu vào và hiển thị trực quan cách mô hình xử lý nó.\n",
        "\n",
        "### Các bước:\n",
        "1.  Tạo instance của `AnalysisNet`.\n",
        "2.  Thực hiện forward pass và nhận logits + feature maps.\n",
        "3.  Tính toán dự đoán cuối cùng.\n",
        "4.  Sử dụng `matplotlib` để vẽ:\n",
        "    *   Hình ảnh đầu vào.\n",
        "    *   16 feature maps đầu tiên từ `Conv1`.\n",
        "    *   16 feature maps đầu tiên từ `Conv2`."
      ],
      "id": "cef0c59819eb143f"
    },
    {
      "metadata": {
        "colab": {
          "base_uri": "https://localhost:8080/"
        },
        "id": "8f6e28cbabed9489",
        "outputId": "f7bb7ddc-655a-499d-bd47-a838e4a872fc"
      },
      "cell_type": "code",
      "outputs": [
        {
          "output_type": "stream",
          "name": "stdout",
          "text": [
            "Requirement already satisfied: matplotlib in /usr/local/lib/python3.11/dist-packages (3.10.0)\n",
            "Requirement already satisfied: contourpy>=1.0.1 in /usr/local/lib/python3.11/dist-packages (from matplotlib) (1.3.2)\n",
            "Requirement already satisfied: cycler>=0.10 in /usr/local/lib/python3.11/dist-packages (from matplotlib) (0.12.1)\n",
            "Requirement already satisfied: fonttools>=4.22.0 in /usr/local/lib/python3.11/dist-packages (from matplotlib) (4.59.0)\n",
            "Requirement already satisfied: kiwisolver>=1.3.1 in /usr/local/lib/python3.11/dist-packages (from matplotlib) (1.4.8)\n",
            "Requirement already satisfied: numpy>=1.23 in /usr/local/lib/python3.11/dist-packages (from matplotlib) (2.0.2)\n",
            "Requirement already satisfied: packaging>=20.0 in /usr/local/lib/python3.11/dist-packages (from matplotlib) (25.0)\n",
            "Requirement already satisfied: pillow>=8 in /usr/local/lib/python3.11/dist-packages (from matplotlib) (11.3.0)\n",
            "Requirement already satisfied: pyparsing>=2.3.1 in /usr/local/lib/python3.11/dist-packages (from matplotlib) (3.2.3)\n",
            "Requirement already satisfied: python-dateutil>=2.7 in /usr/local/lib/python3.11/dist-packages (from matplotlib) (2.9.0.post0)\n",
            "Requirement already satisfied: six>=1.5 in /usr/local/lib/python3.11/dist-packages (from python-dateutil>=2.7->matplotlib) (1.17.0)\n"
          ]
        }
      ],
      "execution_count": 14,
      "source": [
        "!pip install matplotlib"
      ],
      "id": "8f6e28cbabed9489"
    },
    {
      "metadata": {
        "id": "8cdea8819bcf355a",
        "ExecuteTime": {
          "end_time": "2025-08-03T16:55:51.394484Z",
          "start_time": "2025-08-03T16:55:51.070223Z"
        }
      },
      "cell_type": "code",
      "source": [
        "import matplotlib.pyplot as plt"
      ],
      "id": "8cdea8819bcf355a",
      "outputs": [],
      "execution_count": 15
    },
    {
      "metadata": {
        "colab": {
          "base_uri": "https://localhost:8080/"
        },
        "id": "671dfe0029d9d79d",
        "outputId": "604f71c3-e40e-47c4-8925-bba13c4f7079",
        "ExecuteTime": {
          "end_time": "2025-08-03T16:55:52.879489Z",
          "start_time": "2025-08-03T16:55:52.871811Z"
        }
      },
      "cell_type": "code",
      "source": [
        "def analyze_and_predict(original_model, device, image_tensor, true_label=None):\n",
        "    \"\"\"\n",
        "    Phân tích và dự đoán một hình ảnh, hiển thị feature maps.\n",
        "\n",
        "    Args:\n",
        "        original_model: Mô hình đã được huấn luyện.\n",
        "        device: Thiết bị tính toán.\n",
        "        image_tensor: Tensor hình ảnh đầu vào (batch_size=1, 1, 28, 28).\n",
        "        true_label: Nhãn thật (nếu có) để hiển thị.\n",
        "    \"\"\"\n",
        "    print(\"[INFO] Bắt đầu phân tích hình ảnh...\")\n",
        "\n",
        "    # --- Tạo mô hình phân tích ---\n",
        "    analysis_model = AnalysisNet(original_model).to(device)\n",
        "    analysis_model.eval() # Đặt về chế độ đánh giá\n",
        "\n",
        "    with torch.no_grad(): # Tắt gradient\n",
        "        image_tensor = image_tensor.to(device)\n",
        "        # Forward pass và nhận output + feature maps\n",
        "        logits, conv1_features, conv2_features = analysis_model(image_tensor)\n",
        "\n",
        "        # --- 1. Tính toán dự đoán cuối cùng ---\n",
        "        probabilities = F.softmax(logits, dim=1) # Chuyển logits thành xác suất\n",
        "        predicted_class = logits.argmax(dim=1).item() # Lớp có xác suất cao nhất\n",
        "        confidence = probabilities[0][predicted_class].item() # Độ tin cậy\n",
        "\n",
        "        # --- 2. Trực quan hóa kết quả ---\n",
        "        # Tạo figure lớn để chứa nhiều hình ảnh\n",
        "        fig = plt.figure(figsize=(20, 12))\n",
        "\n",
        "        # a. Hình ảnh đầu vào (chiếm 2 cột)\n",
        "        ax_input = plt.subplot2grid((4, 10), (0, 0), rowspan=2, colspan=2)\n",
        "        img_to_show = image_tensor.cpu().squeeze()\n",
        "        # \"Unnormalize\" để hiển thị hình ảnh tự nhiên hơn\n",
        "        img_to_show = img_to_show * 0.3081 + 0.1307\n",
        "        ax_input.imshow(img_to_show, cmap='gray')\n",
        "        title = f'Dự đoán: {predicted_class}\\n(Độ tin cậy: {confidence:.2f})'\n",
        "        if true_label is not None:\n",
        "            title += f'\\nNhãn thật: {true_label}'\n",
        "        ax_input.set_title(title, fontsize=12)\n",
        "        ax_input.axis('off')\n",
        "\n",
        "        # b. 16 Feature maps đầu tiên của Conv1\n",
        "        conv1_cpu = conv1_features.cpu().squeeze()\n",
        "        for i in range(16):\n",
        "            row = i // 4\n",
        "            col = 2 + (i % 4)\n",
        "            ax = plt.subplot2grid((4, 10), (row, col))\n",
        "            ax.imshow(conv1_cpu[i], cmap='viridis')\n",
        "            ax.set_title(f'Conv1_{i}', fontsize=9)\n",
        "            ax.axis('off')\n",
        "\n",
        "        # c. 16 Feature maps đầu tiên của Conv2\n",
        "        conv2_cpu = conv2_features.cpu().squeeze()\n",
        "        for i in range(16):\n",
        "            row = 2 + (i // 8) # Hàng 2 hoặc 3\n",
        "            col = i % 8        # Cột 0-7\n",
        "            ax = plt.subplot2grid((4, 10), (row, col))\n",
        "            ax.imshow(conv2_cpu[i], cmap='viridis')\n",
        "            ax.set_title(f'Conv2_{i}', fontsize=9)\n",
        "            ax.axis('off')\n",
        "\n",
        "        plt.tight_layout(pad=1.0)\n",
        "        plt.show()\n",
        "\n",
        "        # --- 3. In kết quả phân tích bằng text ---\n",
        "        print(f\"\\n[KẾT QUẢ DỰ ĐOÁN]\")\n",
        "        print(f\"  - Dự đoán cuối cùng: Chữ số {predicted_class}\")\n",
        "        print(f\"  - Độ tin cậy: {confidence:.4f}\")\n",
        "\n",
        "        # THÊM BẢNG XÁC SUẤT CHO TẤT CẢ 10 CHỮ SỐ\n",
        "        print(\"\\n[XÁC SUẤT CHO TỪNG CHỮ SỐ]\")\n",
        "        for i in range(10):\n",
        "            prob = probabilities[0][i].item()\n",
        "            print(f\"  - Chữ số {i}: {prob:.4f} ({prob*100:.2f}%)\")\n",
        "\n",
        "        if true_label is not None:\n",
        "            print(f\"\\n[NHÃN THẬT] {true_label}\")\n",
        "        print(\"-\" * 40)\n",
        "\n",
        "    return predicted_class, confidence\n",
        "\n",
        "print(\"[INFO] ✅ Đã định nghĩa hàm analyze_and_predict.\")"
      ],
      "id": "671dfe0029d9d79d",
      "outputs": [
        {
          "output_type": "stream",
          "name": "stdout",
          "text": [
            "[INFO] ✅ Đã định nghĩa hàm analyze_and_predict.\n"
          ]
        }
      ],
      "execution_count": 16
    },
    {
      "metadata": {
        "id": "83507963b74294dd"
      },
      "cell_type": "markdown",
      "source": [
        "## PHẦN 9: VÍ DỤ PHÂN TÍCH HÌNH ẢNH TỪ TẬP TEST\n",
        "\n",
        "### Mục đích:\n",
        "Tải lại mô hình tốt nhất đã lưu và phân tích một hình ảnh ngẫu nhiên từ tập test.\n",
        "\n",
        "### Các bước:\n",
        "1.  Tải lại `state_dict` của mô hình từ file `best_digit_classifier.pth`.\n",
        "2.  Lấy một batch dữ liệu từ `test_loader`.\n",
        "3.  Chọn một hình ảnh và nhãn thật.\n",
        "4.  Gọi `analyze_and_predict` để thực hiện phân tích."
      ],
      "id": "83507963b74294dd"
    },
    {
      "metadata": {
        "colab": {
          "base_uri": "https://localhost:8080/",
          "height": 1000
        },
        "id": "13dd191d5e431c0a",
        "outputId": "154de514-d4f2-43a5-fa50-3296e9a26130",
        "ExecuteTime": {
          "end_time": "2025-08-03T16:55:58.420904Z",
          "start_time": "2025-08-03T16:55:57.410922Z"
        }
      },
      "cell_type": "code",
      "source": [
        "print(\"[INFO] Đang tải mô hình tốt nhất đã lưu...\")\n",
        "try:\n",
        "    model.load_state_dict(torch.load(\"best_digit_classifier.pth\", weights_only=True))\n",
        "    model.to(device)\n",
        "    print(\"[INFO] ✅ Đã tải xong mô hình tốt nhất.\")\n",
        "except FileNotFoundError:\n",
        "    print(\"[LỖI] Không tìm thấy file 'best_digit_classifier.pth'.\")\n",
        "    print(\"      Đảm bảo bạn đã chạy phần huấn luyện (Ô 16).\")\n",
        "except Exception as e:\n",
        "    print(f\"[LỖI] {e}\")\n",
        "    print(\"      Đang thử tải mà không dùng weights_only...\")\n",
        "    try:\n",
        "        model.load_state_dict(torch.load(\"best_digit_classifier.pth\"))\n",
        "        model.to(device)\n",
        "        print(\"[INFO] ✅ Đã tải xong mô hình (không dùng weights_only).\")\n",
        "    except Exception as e2:\n",
        "        print(f\"[LỖI] Không thể tải mô hình: {e2}\")\n",
        "\n",
        "try:\n",
        "    dataiter = iter(test_loader)\n",
        "    images, labels = next(dataiter)\n",
        "\n",
        "    img_to_analyze = images[0:1]\n",
        "    true_label = labels[0].item()\n",
        "\n",
        "    print(f\"\\n[INFO] Bắt đầu phân tích hình ảnh có nhãn thật là: {true_label}\")\n",
        "    _ = analyze_and_predict(model, device, img_to_analyze, true_label=true_label)\n",
        "\n",
        "except Exception as e:\n",
        "    print(f\"[LỖI] Lỗi khi phân tích hình ảnh từ tập test: {e}\")"
      ],
      "id": "13dd191d5e431c0a",
      "outputs": [
        {
          "output_type": "stream",
          "name": "stdout",
          "text": [
            "[INFO] Đang tải mô hình tốt nhất đã lưu...\n",
            "[INFO] ✅ Đã tải xong mô hình tốt nhất.\n",
            "\n",
            "[INFO] Bắt đầu phân tích hình ảnh có nhãn thật là: 7\n",
            "[INFO] Bắt đầu phân tích hình ảnh...\n"
          ]
        },
        {
          "output_type": "display_data",
          "data": {
            "text/plain": [
              "<Figure size 2000x1200 with 33 Axes>"
            ],
            "image/png": "[encoded data removed]"
          },
          "metadata": {}
        },
        {
          "output_type": "stream",
          "name": "stdout",
          "text": [
            "\n",
            "[KẾT QUẢ DỰ ĐOÁN]\n",
            "  - Dự đoán cuối cùng: Chữ số 7\n",
            "  - Độ tin cậy: 1.0000\n",
            "\n",
            "[XÁC SUẤT CHO TỪNG CHỮ SỐ]\n",
            "  - Chữ số 0: 0.0000 (0.00%)\n",
            "  - Chữ số 1: 0.0000 (0.00%)\n",
            "  - Chữ số 2: 0.0000 (0.00%)\n",
            "  - Chữ số 3: 0.0000 (0.00%)\n",
            "  - Chữ số 4: 0.0000 (0.00%)\n",
            "  - Chữ số 5: 0.0000 (0.00%)\n",
            "  - Chữ số 6: 0.0000 (0.00%)\n",
            "  - Chữ số 7: 1.0000 (100.00%)\n",
            "  - Chữ số 8: 0.0000 (0.00%)\n",
            "  - Chữ số 9: 0.0000 (0.00%)\n",
            "\n",
            "[NHÃN THẬT] 7\n",
            "----------------------------------------\n"
          ]
        }
      ],
      "execution_count": 17
    },
    {
      "metadata": {
        "id": "4b3da790160fe234"
      },
      "cell_type": "markdown",
      "source": [
        "## PHẦN 10: VẼ VÀ PHÂN TÍCH HÌNH ẢNH TỰ VẼ\n",
        "\n",
        "### Mục đích:\n",
        "Tạo một giao diện tương tác trong Jupyter Notebook để người dùng tự vẽ chữ số và để mô hình dự đoán."
      ],
      "id": "4b3da790160fe234"
    },
    {
      "metadata": {
        "id": "224057c3489b84aa"
      },
      "cell_type": "markdown",
      "source": [
        "### Các thành phần:\n",
        "1.  **Canvas (`ipycanvas.Canvas`)**: Khu vực vẽ."
      ],
      "id": "224057c3489b84aa"
    },
    {
      "metadata": {
        "colab": {
          "base_uri": "https://localhost:8080/"
        },
        "id": "45ef88dbde9438d1",
        "outputId": "9dc6d4bb-d04a-4b64-a398-4f62327bb90e",
        "collapsed": true
      },
      "cell_type": "code",
      "outputs": [
        {
          "output_type": "stream",
          "name": "stdout",
          "text": [
            "Collecting ipycanvas\n",
            "  Downloading ipycanvas-0.14.1-py2.py3-none-any.whl.metadata (6.3 kB)\n",
            "Requirement already satisfied: numpy in /usr/local/lib/python3.11/dist-packages (2.0.2)\n",
            "Requirement already satisfied: ipywidgets<9,>=7.6.0 in /usr/local/lib/python3.11/dist-packages (from ipycanvas) (7.7.1)\n",
            "Requirement already satisfied: pillow>=6.0 in /usr/local/lib/python3.11/dist-packages (from ipycanvas) (11.3.0)\n",
            "Requirement already satisfied: ipykernel>=4.5.1 in /usr/local/lib/python3.11/dist-packages (from ipywidgets<9,>=7.6.0->ipycanvas) (6.17.1)\n",
            "Requirement already satisfied: ipython-genutils~=0.2.0 in /usr/local/lib/python3.11/dist-packages (from ipywidgets<9,>=7.6.0->ipycanvas) (0.2.0)\n",
            "Requirement already satisfied: traitlets>=4.3.1 in /usr/local/lib/python3.11/dist-packages (from ipywidgets<9,>=7.6.0->ipycanvas) (5.7.1)\n",
            "Requirement already satisfied: widgetsnbextension~=3.6.0 in /usr/local/lib/python3.11/dist-packages (from ipywidgets<9,>=7.6.0->ipycanvas) (3.6.10)\n",
            "Requirement already satisfied: ipython>=4.0.0 in /usr/local/lib/python3.11/dist-packages (from ipywidgets<9,>=7.6.0->ipycanvas) (7.34.0)\n",
            "Requirement already satisfied: jupyterlab-widgets>=1.0.0 in /usr/local/lib/python3.11/dist-packages (from ipywidgets<9,>=7.6.0->ipycanvas) (3.0.15)\n",
            "Requirement already satisfied: debugpy>=1.0 in /usr/local/lib/python3.11/dist-packages (from ipykernel>=4.5.1->ipywidgets<9,>=7.6.0->ipycanvas) (1.8.15)\n",
            "Requirement already satisfied: jupyter-client>=6.1.12 in /usr/local/lib/python3.11/dist-packages (from ipykernel>=4.5.1->ipywidgets<9,>=7.6.0->ipycanvas) (6.1.12)\n",
            "Requirement already satisfied: matplotlib-inline>=0.1 in /usr/local/lib/python3.11/dist-packages (from ipykernel>=4.5.1->ipywidgets<9,>=7.6.0->ipycanvas) (0.1.7)\n",
            "Requirement already satisfied: nest-asyncio in /usr/local/lib/python3.11/dist-packages (from ipykernel>=4.5.1->ipywidgets<9,>=7.6.0->ipycanvas) (1.6.0)\n",
            "Requirement already satisfied: packaging in /usr/local/lib/python3.11/dist-packages (from ipykernel>=4.5.1->ipywidgets<9,>=7.6.0->ipycanvas) (25.0)\n",
            "Requirement already satisfied: psutil in /usr/local/lib/python3.11/dist-packages (from ipykernel>=4.5.1->ipywidgets<9,>=7.6.0->ipycanvas) (5.9.5)\n",
            "Requirement already satisfied: pyzmq>=17 in /usr/local/lib/python3.11/dist-packages (from ipykernel>=4.5.1->ipywidgets<9,>=7.6.0->ipycanvas) (26.2.1)\n",
            "Requirement already satisfied: tornado>=6.1 in /usr/local/lib/python3.11/dist-packages (from ipykernel>=4.5.1->ipywidgets<9,>=7.6.0->ipycanvas) (6.4.2)\n",
            "Requirement already satisfied: setuptools>=18.5 in /usr/local/lib/python3.11/dist-packages (from ipython>=4.0.0->ipywidgets<9,>=7.6.0->ipycanvas) (75.2.0)\n",
            "Collecting jedi>=0.16 (from ipython>=4.0.0->ipywidgets<9,>=7.6.0->ipycanvas)\n",
            "  Downloading jedi-0.19.2-py2.py3-none-any.whl.metadata (22 kB)\n",
            "Requirement already satisfied: decorator in /usr/local/lib/python3.11/dist-packages (from ipython>=4.0.0->ipywidgets<9,>=7.6.0->ipycanvas) (4.4.2)\n",
            "Requirement already satisfied: pickleshare in /usr/local/lib/python3.11/dist-packages (from ipython>=4.0.0->ipywidgets<9,>=7.6.0->ipycanvas) (0.7.5)\n",
            "Requirement already satisfied: prompt-toolkit!=3.0.0,!=3.0.1,<3.1.0,>=2.0.0 in /usr/local/lib/python3.11/dist-packages (from ipython>=4.0.0->ipywidgets<9,>=7.6.0->ipycanvas) (3.0.51)\n",
            "Requirement already satisfied: pygments in /usr/local/lib/python3.11/dist-packages (from ipython>=4.0.0->ipywidgets<9,>=7.6.0->ipycanvas) (2.19.2)\n",
            "Requirement already satisfied: backcall in /usr/local/lib/python3.11/dist-packages (from ipython>=4.0.0->ipywidgets<9,>=7.6.0->ipycanvas) (0.2.0)\n",
            "Requirement already satisfied: pexpect>4.3 in /usr/local/lib/python3.11/dist-packages (from ipython>=4.0.0->ipywidgets<9,>=7.6.0->ipycanvas) (4.9.0)\n",
            "Requirement already satisfied: notebook>=4.4.1 in /usr/local/lib/python3.11/dist-packages (from widgetsnbextension~=3.6.0->ipywidgets<9,>=7.6.0->ipycanvas) (6.5.7)\n",
            "Requirement already satisfied: parso<0.9.0,>=0.8.4 in /usr/local/lib/python3.11/dist-packages (from jedi>=0.16->ipython>=4.0.0->ipywidgets<9,>=7.6.0->ipycanvas) (0.8.4)\n",
            "Requirement already satisfied: jupyter-core>=4.6.0 in /usr/local/lib/python3.11/dist-packages (from jupyter-client>=6.1.12->ipykernel>=4.5.1->ipywidgets<9,>=7.6.0->ipycanvas) (5.8.1)\n",
            "Requirement already satisfied: python-dateutil>=2.1 in /usr/local/lib/python3.11/dist-packages (from jupyter-client>=6.1.12->ipykernel>=4.5.1->ipywidgets<9,>=7.6.0->ipycanvas) (2.9.0.post0)\n",
            "Requirement already satisfied: jinja2 in /usr/local/lib/python3.11/dist-packages (from notebook>=4.4.1->widgetsnbextension~=3.6.0->ipywidgets<9,>=7.6.0->ipycanvas) (3.1.6)\n",
            "Requirement already satisfied: argon2-cffi in /usr/local/lib/python3.11/dist-packages (from notebook>=4.4.1->widgetsnbextension~=3.6.0->ipywidgets<9,>=7.6.0->ipycanvas) (25.1.0)\n",
            "Requirement already satisfied: nbformat in /usr/local/lib/python3.11/dist-packages (from notebook>=4.4.1->widgetsnbextension~=3.6.0->ipywidgets<9,>=7.6.0->ipycanvas) (5.10.4)\n",
            "Requirement already satisfied: nbconvert>=5 in /usr/local/lib/python3.11/dist-packages (from notebook>=4.4.1->widgetsnbextension~=3.6.0->ipywidgets<9,>=7.6.0->ipycanvas) (7.16.6)\n",
            "Requirement already satisfied: Send2Trash>=1.8.0 in /usr/local/lib/python3.11/dist-packages (from notebook>=4.4.1->widgetsnbextension~=3.6.0->ipywidgets<9,>=7.6.0->ipycanvas) (1.8.3)\n",
            "Requirement already satisfied: terminado>=0.8.3 in /usr/local/lib/python3.11/dist-packages (from notebook>=4.4.1->widgetsnbextension~=3.6.0->ipywidgets<9,>=7.6.0->ipycanvas) (0.18.1)\n",
            "Requirement already satisfied: prometheus-client in /usr/local/lib/python3.11/dist-packages (from notebook>=4.4.1->widgetsnbextension~=3.6.0->ipywidgets<9,>=7.6.0->ipycanvas) (0.22.1)\n",
            "Requirement already satisfied: nbclassic>=0.4.7 in /usr/local/lib/python3.11/dist-packages (from notebook>=4.4.1->widgetsnbextension~=3.6.0->ipywidgets<9,>=7.6.0->ipycanvas) (1.3.1)\n",
            "Requirement already satisfied: ptyprocess>=0.5 in /usr/local/lib/python3.11/dist-packages (from pexpect>4.3->ipython>=4.0.0->ipywidgets<9,>=7.6.0->ipycanvas) (0.7.0)\n",
            "Requirement already satisfied: wcwidth in /usr/local/lib/python3.11/dist-packages (from prompt-toolkit!=3.0.0,!=3.0.1,<3.1.0,>=2.0.0->ipython>=4.0.0->ipywidgets<9,>=7.6.0->ipycanvas) (0.2.13)\n",
            "Requirement already satisfied: platformdirs>=2.5 in /usr/local/lib/python3.11/dist-packages (from jupyter-core>=4.6.0->jupyter-client>=6.1.12->ipykernel>=4.5.1->ipywidgets<9,>=7.6.0->ipycanvas) (4.3.8)\n",
            "Requirement already satisfied: notebook-shim>=0.2.3 in /usr/local/lib/python3.11/dist-packages (from nbclassic>=0.4.7->notebook>=4.4.1->widgetsnbextension~=3.6.0->ipywidgets<9,>=7.6.0->ipycanvas) (0.2.4)\n",
            "Requirement already satisfied: beautifulsoup4 in /usr/local/lib/python3.11/dist-packages (from nbconvert>=5->notebook>=4.4.1->widgetsnbextension~=3.6.0->ipywidgets<9,>=7.6.0->ipycanvas) (4.13.4)\n",
            "Requirement already satisfied: bleach!=5.0.0 in /usr/local/lib/python3.11/dist-packages (from bleach[css]!=5.0.0->nbconvert>=5->notebook>=4.4.1->widgetsnbextension~=3.6.0->ipywidgets<9,>=7.6.0->ipycanvas) (6.2.0)\n",
            "Requirement already satisfied: defusedxml in /usr/local/lib/python3.11/dist-packages (from nbconvert>=5->notebook>=4.4.1->widgetsnbextension~=3.6.0->ipywidgets<9,>=7.6.0->ipycanvas) (0.7.1)\n",
            "Requirement already satisfied: jupyterlab-pygments in /usr/local/lib/python3.11/dist-packages (from nbconvert>=5->notebook>=4.4.1->widgetsnbextension~=3.6.0->ipywidgets<9,>=7.6.0->ipycanvas) (0.3.0)\n",
            "Requirement already satisfied: markupsafe>=2.0 in /usr/local/lib/python3.11/dist-packages (from nbconvert>=5->notebook>=4.4.1->widgetsnbextension~=3.6.0->ipywidgets<9,>=7.6.0->ipycanvas) (3.0.2)\n",
            "Requirement already satisfied: mistune<4,>=2.0.3 in /usr/local/lib/python3.11/dist-packages (from nbconvert>=5->notebook>=4.4.1->widgetsnbextension~=3.6.0->ipywidgets<9,>=7.6.0->ipycanvas) (3.1.3)\n",
            "Requirement already satisfied: nbclient>=0.5.0 in /usr/local/lib/python3.11/dist-packages (from nbconvert>=5->notebook>=4.4.1->widgetsnbextension~=3.6.0->ipywidgets<9,>=7.6.0->ipycanvas) (0.10.2)\n",
            "Requirement already satisfied: pandocfilters>=1.4.1 in /usr/local/lib/python3.11/dist-packages (from nbconvert>=5->notebook>=4.4.1->widgetsnbextension~=3.6.0->ipywidgets<9,>=7.6.0->ipycanvas) (1.5.1)\n",
            "Requirement already satisfied: fastjsonschema>=2.15 in /usr/local/lib/python3.11/dist-packages (from nbformat->notebook>=4.4.1->widgetsnbextension~=3.6.0->ipywidgets<9,>=7.6.0->ipycanvas) (2.21.1)\n",
            "Requirement already satisfied: jsonschema>=2.6 in /usr/local/lib/python3.11/dist-packages (from nbformat->notebook>=4.4.1->widgetsnbextension~=3.6.0->ipywidgets<9,>=7.6.0->ipycanvas) (4.25.0)\n",
            "Requirement already satisfied: six>=1.5 in /usr/local/lib/python3.11/dist-packages (from python-dateutil>=2.1->jupyter-client>=6.1.12->ipykernel>=4.5.1->ipywidgets<9,>=7.6.0->ipycanvas) (1.17.0)\n",
            "Requirement already satisfied: argon2-cffi-bindings in /usr/local/lib/python3.11/dist-packages (from argon2-cffi->notebook>=4.4.1->widgetsnbextension~=3.6.0->ipywidgets<9,>=7.6.0->ipycanvas) (21.2.0)\n",
            "Requirement already satisfied: webencodings in /usr/local/lib/python3.11/dist-packages (from bleach!=5.0.0->bleach[css]!=5.0.0->nbconvert>=5->notebook>=4.4.1->widgetsnbextension~=3.6.0->ipywidgets<9,>=7.6.0->ipycanvas) (0.5.1)\n",
            "Requirement already satisfied: tinycss2<1.5,>=1.1.0 in /usr/local/lib/python3.11/dist-packages (from bleach[css]!=5.0.0->nbconvert>=5->notebook>=4.4.1->widgetsnbextension~=3.6.0->ipywidgets<9,>=7.6.0->ipycanvas) (1.4.0)\n",
            "Requirement already satisfied: attrs>=22.2.0 in /usr/local/lib/python3.11/dist-packages (from jsonschema>=2.6->nbformat->notebook>=4.4.1->widgetsnbextension~=3.6.0->ipywidgets<9,>=7.6.0->ipycanvas) (25.3.0)\n",
            "Requirement already satisfied: jsonschema-specifications>=2023.03.6 in /usr/local/lib/python3.11/dist-packages (from jsonschema>=2.6->nbformat->notebook>=4.4.1->widgetsnbextension~=3.6.0->ipywidgets<9,>=7.6.0->ipycanvas) (2025.4.1)\n",
            "Requirement already satisfied: referencing>=0.28.4 in /usr/local/lib/python3.11/dist-packages (from jsonschema>=2.6->nbformat->notebook>=4.4.1->widgetsnbextension~=3.6.0->ipywidgets<9,>=7.6.0->ipycanvas) (0.36.2)\n",
            "Requirement already satisfied: rpds-py>=0.7.1 in /usr/local/lib/python3.11/dist-packages (from jsonschema>=2.6->nbformat->notebook>=4.4.1->widgetsnbextension~=3.6.0->ipywidgets<9,>=7.6.0->ipycanvas) (0.26.0)\n",
            "Requirement already satisfied: jupyter-server<3,>=1.8 in /usr/local/lib/python3.11/dist-packages (from notebook-shim>=0.2.3->nbclassic>=0.4.7->notebook>=4.4.1->widgetsnbextension~=3.6.0->ipywidgets<9,>=7.6.0->ipycanvas) (1.16.0)\n",
            "Requirement already satisfied: cffi>=1.0.1 in /usr/local/lib/python3.11/dist-packages (from argon2-cffi-bindings->argon2-cffi->notebook>=4.4.1->widgetsnbextension~=3.6.0->ipywidgets<9,>=7.6.0->ipycanvas) (1.17.1)\n",
            "Requirement already satisfied: soupsieve>1.2 in /usr/local/lib/python3.11/dist-packages (from beautifulsoup4->nbconvert>=5->notebook>=4.4.1->widgetsnbextension~=3.6.0->ipywidgets<9,>=7.6.0->ipycanvas) (2.7)\n",
            "Requirement already satisfied: typing-extensions>=4.0.0 in /usr/local/lib/python3.11/dist-packages (from beautifulsoup4->nbconvert>=5->notebook>=4.4.1->widgetsnbextension~=3.6.0->ipywidgets<9,>=7.6.0->ipycanvas) (4.14.1)\n",
            "Requirement already satisfied: pycparser in /usr/local/lib/python3.11/dist-packages (from cffi>=1.0.1->argon2-cffi-bindings->argon2-cffi->notebook>=4.4.1->widgetsnbextension~=3.6.0->ipywidgets<9,>=7.6.0->ipycanvas) (2.22)\n",
            "Requirement already satisfied: anyio>=3.1.0 in /usr/local/lib/python3.11/dist-packages (from jupyter-server<3,>=1.8->notebook-shim>=0.2.3->nbclassic>=0.4.7->notebook>=4.4.1->widgetsnbextension~=3.6.0->ipywidgets<9,>=7.6.0->ipycanvas) (4.9.0)\n",
            "Requirement already satisfied: websocket-client in /usr/local/lib/python3.11/dist-packages (from jupyter-server<3,>=1.8->notebook-shim>=0.2.3->nbclassic>=0.4.7->notebook>=4.4.1->widgetsnbextension~=3.6.0->ipywidgets<9,>=7.6.0->ipycanvas) (1.8.0)\n",
            "Requirement already satisfied: idna>=2.8 in /usr/local/lib/python3.11/dist-packages (from anyio>=3.1.0->jupyter-server<3,>=1.8->notebook-shim>=0.2.3->nbclassic>=0.4.7->notebook>=4.4.1->widgetsnbextension~=3.6.0->ipywidgets<9,>=7.6.0->ipycanvas) (3.10)\n",
            "Requirement already satisfied: sniffio>=1.1 in /usr/local/lib/python3.11/dist-packages (from anyio>=3.1.0->jupyter-server<3,>=1.8->notebook-shim>=0.2.3->nbclassic>=0.4.7->notebook>=4.4.1->widgetsnbextension~=3.6.0->ipywidgets<9,>=7.6.0->ipycanvas) (1.3.1)\n",
            "Downloading ipycanvas-0.14.1-py2.py3-none-any.whl (142 kB)\n",
            "\u001b[2K   \u001b[90m━━━━━━━━━━━━━━━━━━━━━━━━━━━━━━━━━━━━━━━━\u001b[0m \u001b[32m143.0/143.0 kB\u001b[0m \u001b[31m6.6 MB/s\u001b[0m eta \u001b[36m0:00:00\u001b[0m\n",
            "\u001b[?25hDownloading jedi-0.19.2-py2.py3-none-any.whl (1.6 MB)\n",
            "\u001b[2K   \u001b[90m━━━━━━━━━━━━━━━━━━━━━━━━━━━━━━━━━━━━━━━━\u001b[0m \u001b[32m1.6/1.6 MB\u001b[0m \u001b[31m46.7 MB/s\u001b[0m eta \u001b[36m0:00:00\u001b[0m\n",
            "\u001b[?25hInstalling collected packages: jedi, ipycanvas\n",
            "Successfully installed ipycanvas-0.14.1 jedi-0.19.2\n"
          ]
        }
      ],
      "execution_count": 18,
      "source": [
        "!pip install ipycanvas numpy"
      ],
      "id": "45ef88dbde9438d1"
    },
    {
      "metadata": {
        "id": "7a4977d4779f4c28",
        "ExecuteTime": {
          "end_time": "2025-08-03T16:56:04.241069Z",
          "start_time": "2025-08-03T16:56:04.198800Z"
        }
      },
      "cell_type": "code",
      "source": [
        "from ipycanvas import Canvas\n",
        "import numpy as np"
      ],
      "id": "7a4977d4779f4c28",
      "outputs": [],
      "execution_count": 19
    },
    {
      "metadata": {
        "colab": {
          "base_uri": "https://localhost:8080/",
          "height": 53
        },
        "id": "ff0766b3f4bf076d",
        "outputId": "9412ec75-6a81-4ada-f6d9-c16607a5ba83",
        "ExecuteTime": {
          "end_time": "2025-08-03T16:56:05.485778Z",
          "start_time": "2025-08-03T16:56:05.481485Z"
        }
      },
      "cell_type": "code",
      "source": [
        "print(\"[INFO] Đang kiểm tra trạng thái mô hình...\")\n",
        "model_loaded = True\n",
        "if not model_loaded:\n",
        "    print(\"[CẢNH BÁO] Mô hình có thể chưa được tải. Chức năng vẽ có thể không hoạt động.\")\n",
        "\n",
        "# Khởi tạo canvas ipycanvas\n",
        "canvas_size = 280\n",
        "canvas = Canvas(width=canvas_size, height=canvas_size)\n",
        "canvas.stroke_style = 'black'\n",
        "canvas.line_width = 15\n",
        "canvas.fill_style = 'black'\n",
        "\n",
        "# Ma trận numpy để lưu hình ảnh 28x28 sẽ đưa vào mô hình\n",
        "drawing_array = np.zeros((28, 28), dtype=np.float32)\n",
        "\n",
        "# Biến trạng thái\n",
        "is_drawing = False\n",
        "has_drawn = False\n",
        "\n",
        "print(\"[INFO] ✅ Canvas ipycanvas đã được khởi tạo.\")"
      ],
      "id": "ff0766b3f4bf076d",
      "outputs": [
        {
          "output_type": "stream",
          "name": "stdout",
          "text": [
            "[INFO] Đang kiểm tra trạng thái mô hình...\n",
            "[INFO] ✅ Canvas ipycanvas đã được khởi tạo.\n"
          ]
        }
      ],
      "execution_count": 20
    },
    {
      "cell_type": "markdown",
      "source": [
        "2.  **Hàm xử lý sự kiện chuột**: Cập nhật ma trận `drawing_array`."
      ],
      "metadata": {
        "id": "OAjoZBAm-m06"
      },
      "id": "OAjoZBAm-m06"
    },
    {
      "metadata": {
        "colab": {
          "base_uri": "https://localhost:8080/"
        },
        "id": "350e0553b475822e",
        "outputId": "0042016d-4161-4a32-c16c-a49139a94928",
        "collapsed": true
      },
      "cell_type": "code",
      "outputs": [
        {
          "output_type": "stream",
          "name": "stdout",
          "text": [
            "Requirement already satisfied: ipywidgets in /usr/local/lib/python3.11/dist-packages (7.7.1)\n",
            "Requirement already satisfied: ipykernel>=4.5.1 in /usr/local/lib/python3.11/dist-packages (from ipywidgets) (6.17.1)\n",
            "Requirement already satisfied: ipython-genutils~=0.2.0 in /usr/local/lib/python3.11/dist-packages (from ipywidgets) (0.2.0)\n",
            "Requirement already satisfied: traitlets>=4.3.1 in /usr/local/lib/python3.11/dist-packages (from ipywidgets) (5.7.1)\n",
            "Requirement already satisfied: widgetsnbextension~=3.6.0 in /usr/local/lib/python3.11/dist-packages (from ipywidgets) (3.6.10)\n",
            "Requirement already satisfied: ipython>=4.0.0 in /usr/local/lib/python3.11/dist-packages (from ipywidgets) (7.34.0)\n",
            "Requirement already satisfied: jupyterlab-widgets>=1.0.0 in /usr/local/lib/python3.11/dist-packages (from ipywidgets) (3.0.15)\n",
            "Requirement already satisfied: debugpy>=1.0 in /usr/local/lib/python3.11/dist-packages (from ipykernel>=4.5.1->ipywidgets) (1.8.15)\n",
            "Requirement already satisfied: jupyter-client>=6.1.12 in /usr/local/lib/python3.11/dist-packages (from ipykernel>=4.5.1->ipywidgets) (6.1.12)\n",
            "Requirement already satisfied: matplotlib-inline>=0.1 in /usr/local/lib/python3.11/dist-packages (from ipykernel>=4.5.1->ipywidgets) (0.1.7)\n",
            "Requirement already satisfied: nest-asyncio in /usr/local/lib/python3.11/dist-packages (from ipykernel>=4.5.1->ipywidgets) (1.6.0)\n",
            "Requirement already satisfied: packaging in /usr/local/lib/python3.11/dist-packages (from ipykernel>=4.5.1->ipywidgets) (25.0)\n",
            "Requirement already satisfied: psutil in /usr/local/lib/python3.11/dist-packages (from ipykernel>=4.5.1->ipywidgets) (5.9.5)\n",
            "Requirement already satisfied: pyzmq>=17 in /usr/local/lib/python3.11/dist-packages (from ipykernel>=4.5.1->ipywidgets) (26.2.1)\n",
            "Requirement already satisfied: tornado>=6.1 in /usr/local/lib/python3.11/dist-packages (from ipykernel>=4.5.1->ipywidgets) (6.4.2)\n",
            "Requirement already satisfied: setuptools>=18.5 in /usr/local/lib/python3.11/dist-packages (from ipython>=4.0.0->ipywidgets) (75.2.0)\n",
            "Requirement already satisfied: jedi>=0.16 in /usr/local/lib/python3.11/dist-packages (from ipython>=4.0.0->ipywidgets) (0.19.2)\n",
            "Requirement already satisfied: decorator in /usr/local/lib/python3.11/dist-packages (from ipython>=4.0.0->ipywidgets) (4.4.2)\n",
            "Requirement already satisfied: pickleshare in /usr/local/lib/python3.11/dist-packages (from ipython>=4.0.0->ipywidgets) (0.7.5)\n",
            "Requirement already satisfied: prompt-toolkit!=3.0.0,!=3.0.1,<3.1.0,>=2.0.0 in /usr/local/lib/python3.11/dist-packages (from ipython>=4.0.0->ipywidgets) (3.0.51)\n",
            "Requirement already satisfied: pygments in /usr/local/lib/python3.11/dist-packages (from ipython>=4.0.0->ipywidgets) (2.19.2)\n",
            "Requirement already satisfied: backcall in /usr/local/lib/python3.11/dist-packages (from ipython>=4.0.0->ipywidgets) (0.2.0)\n",
            "Requirement already satisfied: pexpect>4.3 in /usr/local/lib/python3.11/dist-packages (from ipython>=4.0.0->ipywidgets) (4.9.0)\n",
            "Requirement already satisfied: notebook>=4.4.1 in /usr/local/lib/python3.11/dist-packages (from widgetsnbextension~=3.6.0->ipywidgets) (6.5.7)\n",
            "Requirement already satisfied: parso<0.9.0,>=0.8.4 in /usr/local/lib/python3.11/dist-packages (from jedi>=0.16->ipython>=4.0.0->ipywidgets) (0.8.4)\n",
            "Requirement already satisfied: jupyter-core>=4.6.0 in /usr/local/lib/python3.11/dist-packages (from jupyter-client>=6.1.12->ipykernel>=4.5.1->ipywidgets) (5.8.1)\n",
            "Requirement already satisfied: python-dateutil>=2.1 in /usr/local/lib/python3.11/dist-packages (from jupyter-client>=6.1.12->ipykernel>=4.5.1->ipywidgets) (2.9.0.post0)\n",
            "Requirement already satisfied: jinja2 in /usr/local/lib/python3.11/dist-packages (from notebook>=4.4.1->widgetsnbextension~=3.6.0->ipywidgets) (3.1.6)\n",
            "Requirement already satisfied: argon2-cffi in /usr/local/lib/python3.11/dist-packages (from notebook>=4.4.1->widgetsnbextension~=3.6.0->ipywidgets) (25.1.0)\n",
            "Requirement already satisfied: nbformat in /usr/local/lib/python3.11/dist-packages (from notebook>=4.4.1->widgetsnbextension~=3.6.0->ipywidgets) (5.10.4)\n",
            "Requirement already satisfied: nbconvert>=5 in /usr/local/lib/python3.11/dist-packages (from notebook>=4.4.1->widgetsnbextension~=3.6.0->ipywidgets) (7.16.6)\n",
            "Requirement already satisfied: Send2Trash>=1.8.0 in /usr/local/lib/python3.11/dist-packages (from notebook>=4.4.1->widgetsnbextension~=3.6.0->ipywidgets) (1.8.3)\n",
            "Requirement already satisfied: terminado>=0.8.3 in /usr/local/lib/python3.11/dist-packages (from notebook>=4.4.1->widgetsnbextension~=3.6.0->ipywidgets) (0.18.1)\n",
            "Requirement already satisfied: prometheus-client in /usr/local/lib/python3.11/dist-packages (from notebook>=4.4.1->widgetsnbextension~=3.6.0->ipywidgets) (0.22.1)\n",
            "Requirement already satisfied: nbclassic>=0.4.7 in /usr/local/lib/python3.11/dist-packages (from notebook>=4.4.1->widgetsnbextension~=3.6.0->ipywidgets) (1.3.1)\n",
            "Requirement already satisfied: ptyprocess>=0.5 in /usr/local/lib/python3.11/dist-packages (from pexpect>4.3->ipython>=4.0.0->ipywidgets) (0.7.0)\n",
            "Requirement already satisfied: wcwidth in /usr/local/lib/python3.11/dist-packages (from prompt-toolkit!=3.0.0,!=3.0.1,<3.1.0,>=2.0.0->ipython>=4.0.0->ipywidgets) (0.2.13)\n",
            "Requirement already satisfied: platformdirs>=2.5 in /usr/local/lib/python3.11/dist-packages (from jupyter-core>=4.6.0->jupyter-client>=6.1.12->ipykernel>=4.5.1->ipywidgets) (4.3.8)\n",
            "Requirement already satisfied: notebook-shim>=0.2.3 in /usr/local/lib/python3.11/dist-packages (from nbclassic>=0.4.7->notebook>=4.4.1->widgetsnbextension~=3.6.0->ipywidgets) (0.2.4)\n",
            "Requirement already satisfied: beautifulsoup4 in /usr/local/lib/python3.11/dist-packages (from nbconvert>=5->notebook>=4.4.1->widgetsnbextension~=3.6.0->ipywidgets) (4.13.4)\n",
            "Requirement already satisfied: bleach!=5.0.0 in /usr/local/lib/python3.11/dist-packages (from bleach[css]!=5.0.0->nbconvert>=5->notebook>=4.4.1->widgetsnbextension~=3.6.0->ipywidgets) (6.2.0)\n",
            "Requirement already satisfied: defusedxml in /usr/local/lib/python3.11/dist-packages (from nbconvert>=5->notebook>=4.4.1->widgetsnbextension~=3.6.0->ipywidgets) (0.7.1)\n",
            "Requirement already satisfied: jupyterlab-pygments in /usr/local/lib/python3.11/dist-packages (from nbconvert>=5->notebook>=4.4.1->widgetsnbextension~=3.6.0->ipywidgets) (0.3.0)\n",
            "Requirement already satisfied: markupsafe>=2.0 in /usr/local/lib/python3.11/dist-packages (from nbconvert>=5->notebook>=4.4.1->widgetsnbextension~=3.6.0->ipywidgets) (3.0.2)\n",
            "Requirement already satisfied: mistune<4,>=2.0.3 in /usr/local/lib/python3.11/dist-packages (from nbconvert>=5->notebook>=4.4.1->widgetsnbextension~=3.6.0->ipywidgets) (3.1.3)\n",
            "Requirement already satisfied: nbclient>=0.5.0 in /usr/local/lib/python3.11/dist-packages (from nbconvert>=5->notebook>=4.4.1->widgetsnbextension~=3.6.0->ipywidgets) (0.10.2)\n",
            "Requirement already satisfied: pandocfilters>=1.4.1 in /usr/local/lib/python3.11/dist-packages (from nbconvert>=5->notebook>=4.4.1->widgetsnbextension~=3.6.0->ipywidgets) (1.5.1)\n",
            "Requirement already satisfied: fastjsonschema>=2.15 in /usr/local/lib/python3.11/dist-packages (from nbformat->notebook>=4.4.1->widgetsnbextension~=3.6.0->ipywidgets) (2.21.1)\n",
            "Requirement already satisfied: jsonschema>=2.6 in /usr/local/lib/python3.11/dist-packages (from nbformat->notebook>=4.4.1->widgetsnbextension~=3.6.0->ipywidgets) (4.25.0)\n",
            "Requirement already satisfied: six>=1.5 in /usr/local/lib/python3.11/dist-packages (from python-dateutil>=2.1->jupyter-client>=6.1.12->ipykernel>=4.5.1->ipywidgets) (1.17.0)\n",
            "Requirement already satisfied: argon2-cffi-bindings in /usr/local/lib/python3.11/dist-packages (from argon2-cffi->notebook>=4.4.1->widgetsnbextension~=3.6.0->ipywidgets) (21.2.0)\n",
            "Requirement already satisfied: webencodings in /usr/local/lib/python3.11/dist-packages (from bleach!=5.0.0->bleach[css]!=5.0.0->nbconvert>=5->notebook>=4.4.1->widgetsnbextension~=3.6.0->ipywidgets) (0.5.1)\n",
            "Requirement already satisfied: tinycss2<1.5,>=1.1.0 in /usr/local/lib/python3.11/dist-packages (from bleach[css]!=5.0.0->nbconvert>=5->notebook>=4.4.1->widgetsnbextension~=3.6.0->ipywidgets) (1.4.0)\n",
            "Requirement already satisfied: attrs>=22.2.0 in /usr/local/lib/python3.11/dist-packages (from jsonschema>=2.6->nbformat->notebook>=4.4.1->widgetsnbextension~=3.6.0->ipywidgets) (25.3.0)\n",
            "Requirement already satisfied: jsonschema-specifications>=2023.03.6 in /usr/local/lib/python3.11/dist-packages (from jsonschema>=2.6->nbformat->notebook>=4.4.1->widgetsnbextension~=3.6.0->ipywidgets) (2025.4.1)\n",
            "Requirement already satisfied: referencing>=0.28.4 in /usr/local/lib/python3.11/dist-packages (from jsonschema>=2.6->nbformat->notebook>=4.4.1->widgetsnbextension~=3.6.0->ipywidgets) (0.36.2)\n",
            "Requirement already satisfied: rpds-py>=0.7.1 in /usr/local/lib/python3.11/dist-packages (from jsonschema>=2.6->nbformat->notebook>=4.4.1->widgetsnbextension~=3.6.0->ipywidgets) (0.26.0)\n",
            "Requirement already satisfied: jupyter-server<3,>=1.8 in /usr/local/lib/python3.11/dist-packages (from notebook-shim>=0.2.3->nbclassic>=0.4.7->notebook>=4.4.1->widgetsnbextension~=3.6.0->ipywidgets) (1.16.0)\n",
            "Requirement already satisfied: cffi>=1.0.1 in /usr/local/lib/python3.11/dist-packages (from argon2-cffi-bindings->argon2-cffi->notebook>=4.4.1->widgetsnbextension~=3.6.0->ipywidgets) (1.17.1)\n",
            "Requirement already satisfied: soupsieve>1.2 in /usr/local/lib/python3.11/dist-packages (from beautifulsoup4->nbconvert>=5->notebook>=4.4.1->widgetsnbextension~=3.6.0->ipywidgets) (2.7)\n",
            "Requirement already satisfied: typing-extensions>=4.0.0 in /usr/local/lib/python3.11/dist-packages (from beautifulsoup4->nbconvert>=5->notebook>=4.4.1->widgetsnbextension~=3.6.0->ipywidgets) (4.14.1)\n",
            "Requirement already satisfied: pycparser in /usr/local/lib/python3.11/dist-packages (from cffi>=1.0.1->argon2-cffi-bindings->argon2-cffi->notebook>=4.4.1->widgetsnbextension~=3.6.0->ipywidgets) (2.22)\n",
            "Requirement already satisfied: anyio>=3.1.0 in /usr/local/lib/python3.11/dist-packages (from jupyter-server<3,>=1.8->notebook-shim>=0.2.3->nbclassic>=0.4.7->notebook>=4.4.1->widgetsnbextension~=3.6.0->ipywidgets) (4.9.0)\n",
            "Requirement already satisfied: websocket-client in /usr/local/lib/python3.11/dist-packages (from jupyter-server<3,>=1.8->notebook-shim>=0.2.3->nbclassic>=0.4.7->notebook>=4.4.1->widgetsnbextension~=3.6.0->ipywidgets) (1.8.0)\n",
            "Requirement already satisfied: idna>=2.8 in /usr/local/lib/python3.11/dist-packages (from anyio>=3.1.0->jupyter-server<3,>=1.8->notebook-shim>=0.2.3->nbclassic>=0.4.7->notebook>=4.4.1->widgetsnbextension~=3.6.0->ipywidgets) (3.10)\n",
            "Requirement already satisfied: sniffio>=1.1 in /usr/local/lib/python3.11/dist-packages (from anyio>=3.1.0->jupyter-server<3,>=1.8->notebook-shim>=0.2.3->nbclassic>=0.4.7->notebook>=4.4.1->widgetsnbextension~=3.6.0->ipywidgets) (1.3.1)\n"
          ]
        }
      ],
      "execution_count": 21,
      "source": [
        "!pip install ipywidgets"
      ],
      "id": "350e0553b475822e"
    },
    {
      "metadata": {
        "id": "4f0e92b5af43d31f",
        "ExecuteTime": {
          "end_time": "2025-08-03T16:56:13.171405Z",
          "start_time": "2025-08-03T16:56:13.169604Z"
        }
      },
      "cell_type": "code",
      "source": [
        "from ipycanvas import hold_canvas"
      ],
      "id": "4f0e92b5af43d31f",
      "outputs": [],
      "execution_count": 22
    },
    {
      "metadata": {
        "colab": {
          "base_uri": "https://localhost:8080/"
        },
        "id": "7f9aef92ed86ed1f",
        "outputId": "66e8d911-a396-4485-89cf-6dcf703562ee",
        "ExecuteTime": {
          "end_time": "2025-08-03T16:56:27.872862Z",
          "start_time": "2025-08-03T16:56:27.868470Z"
        }
      },
      "cell_type": "code",
      "source": [
        "def on_mouse_down(x, y):\n",
        "    \"\"\"Xử lý khi nhấn chuột xuống.\"\"\"\n",
        "    global is_drawing, has_drawn\n",
        "    is_drawing = True\n",
        "    has_drawn = True\n",
        "    update_button_state_ipy() # Cập nhật trạng thái nút\n",
        "    draw_point(x, y) # Vẽ điểm đầu tiên\n",
        "\n",
        "def on_mouse_move(x, y):\n",
        "    \"\"\"Xử lý khi di chuyển chuột (khi đang nhấn).\"\"\"\n",
        "    if is_drawing:\n",
        "        draw_point(x, y)\n",
        "\n",
        "def on_mouse_up(x, y):\n",
        "    \"\"\"Xử lý khi nhả chuột.\"\"\"\n",
        "    global is_drawing\n",
        "    is_drawing = False\n",
        "\n",
        "def draw_point(x, y):\n",
        "    \"\"\"\n",
        "    Vẽ một điểm mềm mại lên canvas và cập nhật drawing_array.\n",
        "    \"\"\"\n",
        "    # 1. Vẽ lên canvas ipycanvas (kích thước 280x280)\n",
        "    with hold_canvas(canvas):\n",
        "        canvas.fill_circle(x, y, canvas.line_width / 2)\n",
        "\n",
        "    # 2. Cập nhật drawing_array (kích thước 28x28) một cách mềm mại hơn\n",
        "    # Scale tọa độ từ canvas (0-280) về ma trận (0-27)\n",
        "    grid_x_float = x / canvas_size * 28.0\n",
        "    grid_y_float = y / canvas_size * 28.0\n",
        "    grid_x = int(grid_x_float)\n",
        "    grid_y = int(grid_y_float)\n",
        "\n",
        "    if 0 <= grid_x < 28 and 0 <= grid_y < 28:\n",
        "        # Tính offset để phân bố pixel tốt hơn (sub-pixel rendering đơn giản)\n",
        "        dx = grid_x_float - grid_x\n",
        "        dy = grid_y_float - grid_y\n",
        "\n",
        "        # Vẽ một khu vực 2x2 xung quanh điểm chính để làm mượt\n",
        "        for dy_offset in [0, 1]:\n",
        "            for dx_offset in [0, 1]:\n",
        "                nx = grid_x + dx_offset\n",
        "                ny = grid_y + dy_offset\n",
        "                if 0 <= nx < 28 and 0 <= ny < 28:\n",
        "                    # Tính trọng số dựa trên khoảng cách\n",
        "                    weight_x = 1.0 - abs((dx_offset - dx))\n",
        "                    weight_y = 1.0 - abs((dy_offset - dy))\n",
        "                    weight = weight_x * weight_y\n",
        "                    # Cập nhật pixel với giá trị có trọng số (giữ giá trị max)\n",
        "                    drawing_array[ny, nx] = np.maximum(drawing_array[ny, nx], weight)\n",
        "\n",
        "# Gắn kết sự kiện chuột với canvas\n",
        "canvas.on_mouse_down(on_mouse_down)\n",
        "canvas.on_mouse_move(on_mouse_move)\n",
        "canvas.on_mouse_up(on_mouse_up)\n",
        "\n",
        "print(\"[INFO] ✅ Hàm xử lý vẽ cho ipycanvas đã được kết nối.\")"
      ],
      "id": "7f9aef92ed86ed1f",
      "outputs": [
        {
          "output_type": "stream",
          "name": "stdout",
          "text": [
            "[INFO] ✅ Hàm xử lý vẽ cho ipycanvas đã được kết nối.\n"
          ]
        }
      ],
      "execution_count": 23
    },
    {
      "cell_type": "markdown",
      "source": [
        "3.  **Nút (`ipywidgets.Button`)**: \"Predict\" và \"Clear\".\n",
        "4.  **Khu vực output (`ipywidgets.Output`)**: Hiển thị kết quả."
      ],
      "metadata": {
        "id": "8xSZFiRm-tLA"
      },
      "id": "8xSZFiRm-tLA"
    },
    {
      "metadata": {
        "id": "5615fd7232144df9",
        "ExecuteTime": {
          "end_time": "2025-08-03T16:56:08.323320Z",
          "start_time": "2025-08-03T16:56:08.321524Z"
        }
      },
      "cell_type": "code",
      "outputs": [],
      "execution_count": 24,
      "source": [
        "import ipywidgets as widgets\n",
        "from IPython.display import clear_output"
      ],
      "id": "5615fd7232144df9"
    },
    {
      "metadata": {
        "colab": {
          "base_uri": "https://localhost:8080/",
          "height": 35
        },
        "id": "ac00bceb4f25481",
        "outputId": "651f4423-1334-40d3-abd7-fde9b540ecf8",
        "ExecuteTime": {
          "end_time": "2025-08-03T17:04:06.843170Z",
          "start_time": "2025-08-03T17:04:06.829056Z"
        }
      },
      "cell_type": "code",
      "outputs": [
        {
          "output_type": "stream",
          "name": "stdout",
          "text": [
            "[INFO] ✅ Nút và hàm xử lý cho ipycanvas đã được tạo.\n"
          ]
        }
      ],
      "execution_count": 25,
      "source": [
        "def predict_from_array(model, device, np_image_array):\n",
        "    \"\"\"\n",
        "    Dự đoán từ một mảng numpy 28x28.\n",
        "    \"\"\"\n",
        "    tensor_image = torch.from_numpy(np_image_array).float()\n",
        "    tensor_image = tensor_image.unsqueeze(0).unsqueeze(0) # Thêm batch_dim và channel_dim\n",
        "    normalized_tensor = (tensor_image - 0.1307) / 0.3081 # Normalize giống MNIST\n",
        "    model.eval()\n",
        "    with torch.no_grad():\n",
        "        normalized_tensor = normalized_tensor.to(device)\n",
        "        output = model(normalized_tensor)\n",
        "        probabilities = F.softmax(output, dim=1)\n",
        "        predicted_class = output.argmax(dim=1).item()\n",
        "        confidence = probabilities[0][predicted_class].item()\n",
        "\n",
        "        # TRẢ VỀ XÁC SUẤT CHO TẤT CẢ 10 LỚP\n",
        "        all_probabilities = probabilities[0].cpu().numpy()\n",
        "\n",
        "    return predicted_class, confidence, all_probabilities\n",
        "\n",
        "def on_predict_button_clicked_ipy(b):\n",
        "    \"\"\"Xử lý khi nhấn nút Predict với cấu trúc in chi tiết như phần test.\"\"\"\n",
        "    if not model_loaded:\n",
        "        with output_area:\n",
        "            clear_output(wait=True)\n",
        "            print(\"❌ Lỗi: Mô hình chưa được tải. Không thể dự đoán.\")\n",
        "        return\n",
        "\n",
        "    if not has_drawn or np.all(drawing_array == 0):\n",
        "        with output_area:\n",
        "            clear_output(wait=True)\n",
        "            print(\"⚠️ Vui lòng vẽ một chữ số trước khi nhấn 'Predict'.\")\n",
        "        return\n",
        "\n",
        "    with output_area: # Hiển thị trong khu vực output đã chỉ định\n",
        "        clear_output(wait=True)\n",
        "        print(\"🔍 Đang phân tích hình vẽ...\")\n",
        "\n",
        "        try:\n",
        "            # CHUẨN BỊ DỮ LIỆU\n",
        "            # Chuyển numpy array thành tensor PyTorch\n",
        "            img_to_predict = drawing_array.copy()\n",
        "            tensor_image = torch.from_numpy(img_to_predict).float()\n",
        "            tensor_image = tensor_image.unsqueeze(0).unsqueeze(0)  # (1, 1, 28, 28)\n",
        "            normalized_tensor = (tensor_image - 0.1307) / 0.3081\n",
        "\n",
        "            # TẠO MÔ HÌNH PHÂN TÍCH\n",
        "            analysis_model = AnalysisNet(model).to(device)\n",
        "            analysis_model.eval()\n",
        "\n",
        "            with torch.no_grad():\n",
        "                normalized_tensor = normalized_tensor.to(device)\n",
        "                # Forward pass và nhận output + feature maps\n",
        "                logits, conv1_features, conv2_features = analysis_model(normalized_tensor)\n",
        "\n",
        "                # 1. TÍNH TOÁN DỰ ĐOÁN\n",
        "                probabilities = F.softmax(logits, dim=1)\n",
        "                predicted_class = logits.argmax(dim=1).item()\n",
        "                confidence = probabilities[0][predicted_class].item()\n",
        "                all_probabilities = probabilities[0].cpu().numpy()  # Xác suất cho tất cả 10 chữ số\n",
        "\n",
        "                # 2. TRỰC QUAN HÓA KẾT QUẢ\n",
        "                # Tạo figure lớn để chứa nhiều hình ảnh\n",
        "                fig = plt.figure(figsize=(20, 12))\n",
        "\n",
        "                # a. Hình ảnh đầu vào (chiếm 2 cột)\n",
        "                ax_input = plt.subplot2grid((4, 10), (0, 0), rowspan=2, colspan=2)\n",
        "                img_to_show = normalized_tensor.cpu().squeeze()\n",
        "                # \"Unnormalize\" để hiển thị hình ảnh tự nhiên hơn\n",
        "                img_to_show = img_to_show * 0.3081 + 0.1307\n",
        "                ax_input.imshow(img_to_show, cmap='gray')\n",
        "                title = f'Dự đoán: {predicted_class}\\n(Độ tin cậy: {confidence:.2f})'\n",
        "                ax_input.set_title(title, fontsize=12)\n",
        "                ax_input.axis('off')\n",
        "\n",
        "                # b. 16 Feature maps đầu tiên của Conv1\n",
        "                conv1_cpu = conv1_features.cpu().squeeze()\n",
        "                for i in range(16):\n",
        "                    row = i // 4\n",
        "                    col = 2 + (i % 4)\n",
        "                    ax = plt.subplot2grid((4, 10), (row, col))\n",
        "                    ax.imshow(conv1_cpu[i], cmap='viridis')\n",
        "                    ax.set_title(f'Conv1_{i}', fontsize=9)\n",
        "                    ax.axis('off')\n",
        "\n",
        "                # c. 16 Feature maps đầu tiên của Conv2\n",
        "                conv2_cpu = conv2_features.cpu().squeeze()\n",
        "                for i in range(16):\n",
        "                    row = 2 + (i // 8)  # Hàng 2 hoặc 3\n",
        "                    col = i % 8         # Cột 0-7\n",
        "                    ax = plt.subplot2grid((4, 10), (row, col))\n",
        "                    ax.imshow(conv2_cpu[i], cmap='viridis')\n",
        "                    ax.set_title(f'Conv2_{i}', fontsize=9)\n",
        "                    ax.axis('off')\n",
        "\n",
        "                plt.tight_layout(pad=1.0)\n",
        "                plt.show()\n",
        "\n",
        "                # 3. IN KẾT QUẢ PHÂN TÍCH CHI TIẾT\n",
        "                print(f\"\\n[PHÂN TÍCH MÔ HÌNH]\")\n",
        "                print(f\"  - Lớp Conv1 (64 feature maps) trích xuất các đặc trưng cơ bản như cạnh, góc.\")\n",
        "                print(f\"  - Lớp Conv2 (128 feature maps) kết hợp các đặc trưng cơ bản để tạo ra các mẫu phức tạp hơn.\")\n",
        "                print(f\"  - Cuối cùng, các feature maps được flatten và đưa vào lớp Fully Connected để dự đoán.\")\n",
        "\n",
        "                print(f\"\\n[KẾT QUẢ DỰ ĐOÁN CHI TIẾT]\")\n",
        "                print(f\"  - Dự đoán cuối cùng: Chữ số {predicted_class}\")\n",
        "                print(f\"  - Độ tin cậy: {confidence:.4f} ({confidence*100:.2f}%)\")\n",
        "\n",
        "                # HIỂN THỊ XÁC SUẤT CHO TẤT CẢ 10 CHỮ SỐ\n",
        "                print(f\"\\n[XÁC SUẤT CHO TỪNG CHỮ SỐ (0-9)]\")\n",
        "                for i in range(10):\n",
        "                    prob = all_probabilities[i]\n",
        "                    print(f\"  - Chữ số {i}: {prob:.4f} ({prob*100:.2f}%)\")\n",
        "\n",
        "                # BIỂU ĐỒ CỘT CHO DỄ NHÌN\n",
        "                print(f\"\\n[BIỂU ĐỒ XÁC SUẤT]\")\n",
        "                fig_prob, ax_prob = plt.subplots(figsize=(10, 3))\n",
        "                digits = list(range(10))\n",
        "                colors = ['blue' if i != predicted_class else 'red' for i in digits]\n",
        "                ax_prob.bar(digits, all_probabilities, color=colors)\n",
        "                ax_prob.set_xlabel('Chữ số', fontsize=10)\n",
        "                ax_prob.set_ylabel('Xác suất', fontsize=10)\n",
        "                ax_prob.set_title('Xác suất dự đoán cho từng chữ số', fontsize=12)\n",
        "                ax_prob.set_xticks(digits)\n",
        "                ax_prob.set_ylim(0, 1)\n",
        "\n",
        "                # Hiển thị giá trị trên cột\n",
        "                for i, v in enumerate(all_probabilities):\n",
        "                    ax_prob.text(i, v + 0.02, f'{v:.2f}', ha='center', va='bottom', fontsize=8)\n",
        "\n",
        "                plt.tight_layout()\n",
        "                plt.show()\n",
        "\n",
        "                print(\"-\" * 40)\n",
        "\n",
        "        except Exception as e:\n",
        "            print(f\"❌ Lỗi trong quá trình dự đoán: {e}\")\n",
        "\n",
        "def on_clear_button_clicked_ipy(b):\n",
        "    \"\"\"Xử lý khi nhấn nút Clear.\"\"\"\n",
        "    global drawing_array, has_drawn\n",
        "    drawing_array = np.zeros((28, 28), dtype=np.float32)\n",
        "    has_drawn = False\n",
        "    update_button_state_ipy() # Cập nhật nút\n",
        "    canvas.clear() # Xóa canvas\n",
        "    with output_area:\n",
        "        clear_output(wait=True)\n",
        "        print(\"🗑️ Canvas đã được xóa.\")\n",
        "\n",
        "def update_button_state_ipy():\n",
        "    \"\"\"Cập nhật trạng thái kích hoạt của nút Predict.\"\"\"\n",
        "    if has_drawn and not np.all(drawing_array == 0):\n",
        "        predict_button_ipy.disabled = False\n",
        "        predict_button_ipy.button_style = 'success' # Nút xanh\n",
        "    else:\n",
        "        predict_button_ipy.disabled = True\n",
        "        predict_button_ipy.button_style = '' # Nút mặc định\n",
        "\n",
        "# Tạo các nút\n",
        "predict_button_ipy = widgets.Button(\n",
        "    description=\"Predict\",\n",
        "    disabled=True, # Ban đầu bị tắt\n",
        "    button_style='', # 'success', 'info', 'warning', 'danger' hoặc ''\n",
        "    tooltip='Dự đoán chữ số đã vẽ'\n",
        ")\n",
        "clear_button_ipy = widgets.Button(\n",
        "    description=\"Clear Canvas\",\n",
        "    button_style='warning', # Nút màu cam\n",
        "    tooltip='Xóa toàn bộ canvas'\n",
        ")\n",
        "\n",
        "# Gắn hàm xử lý cho nút\n",
        "predict_button_ipy.on_click(on_predict_button_clicked_ipy)\n",
        "clear_button_ipy.on_click(on_clear_button_clicked_ipy)\n",
        "\n",
        "# Tạo khu vực hiển thị output\n",
        "output_area = widgets.Output(layout=widgets.Layout(height='2000px', border='1px solid black'))\n",
        "\n",
        "print(\"[INFO] ✅ Nút và hàm xử lý cho ipycanvas đã được tạo.\")"
      ],
      "id": "ac00bceb4f25481"
    },
    {
      "cell_type": "code",
      "source": [
        "try:\n",
        "  from google.colab import output\n",
        "  output.enable_custom_widget_manager()\n",
        "except ImportError:\n",
        "  pass"
      ],
      "metadata": {
        "id": "IIA_QTM5zH7b",
        "ExecuteTime": {
          "end_time": "2025-08-03T16:56:17.362027Z",
          "start_time": "2025-08-03T16:56:17.359843Z"
        }
      },
      "id": "IIA_QTM5zH7b",
      "outputs": [],
      "execution_count": 26
    },
    {
      "metadata": {
        "colab": {
          "base_uri": "https://localhost:8080/",
          "height": 1000,
          "referenced_widgets": [
            "8a01e2dbd7944219bf8ba16300abeb3f",
            "5923289471f349afb5c536d30832e625",
            "4fe27535d5954def90c0cb2e057cfc45",
            "af9cc4c6ef9444249feccacf69f11080",
            "693ae755343a4baeb256f961da0d2040",
            "3b579694b92c4188ad13aeaedcf67b18",
            "9db2ceefb8e842e99a19a53296ddced4",
            "f6ffa1187bcf4eefb69b81264e431b14",
            "09dc66880b9e4739afbfea25b50580b3",
            "02b48d76bc3d4c84b83e719739a92993",
            "6fde8d4459944b19bffa9de487ec0922",
            "ae7b693ee0704ac781ba7ce4c8ed3229",
            "c1f2badd2e4d4217a131075570a5b42c",
            "7b4596735dbe4d3f9422580407416c28",
            "216e61aecc8f47349f2237a2a0bd0ca3",
            "bc11b13ca1c04728b5f2b4968ddb2c7a",
            "24234c7283044f9981e4202bcbc9e9fa",
            "8949284e1eda460a8effdbe0c9e8e78c",
            "998f74e4b1b54db3b48bf9247af83b83",
            "6922d2eb84a44487b4ab7171e3747a3b",
            "57d754d8b82e408d93adfa25abff1d5d",
            "cfca2f3af0eb48ec94ee8b39f56768e1",
            "40208e9c2aea432189d91c2528d72d67",
            "23df2a2a48a049b692a970a89316975c",
            "a4d244fa8a9b466ead3a8ba1397f9abb"
          ]
        },
        "id": "4f4dd4aef0b73722",
        "outputId": "efa22cc3-7733-45a7-83f4-7e03de0895ba",
        "ExecuteTime": {
          "end_time": "2025-08-03T17:04:09.079029Z",
          "start_time": "2025-08-03T17:04:09.063158Z"
        }
      },
      "cell_type": "code",
      "source": [
        "# Hiển thị tất cả các thành phần\n",
        "display(widgets.HTML(\"<h3>🎨 Vẽ Chữ Số của Bạn (ipycanvas)</h3>\"))\n",
        "display(widgets.HTML(\"<p><i>Vẽ bằng chuột trái. Nhấn 'Predict' sau khi vẽ xong.</i></p>\"))\n",
        "display(canvas) # Hiển thị canvas\n",
        "# Thêm khoảng trống\n",
        "display(widgets.HTML(\"<br>\"))\n",
        "# Hiển thị nút\n",
        "display(widgets.HBox([predict_button_ipy, clear_button_ipy]))\n",
        "# Thêm khoảng trống\n",
        "display(widgets.HTML(\"<br>\"))\n",
        "# Hiển thị khu vực output\n",
        "display(output_area)\n",
        "\n",
        "# Gọi hàm cập nhật trạng thái ban đầu\n",
        "update_button_state_ipy()"
      ],
      "id": "4f4dd4aef0b73722",
      "outputs": [
        {
          "output_type": "display_data",
          "data": {
            "text/plain": [
              "HTML(value='<h3>🎨 Vẽ Chữ Số của Bạn (ipycanvas)</h3>')"
            ],
            "application/vnd.jupyter.widget-view+json": {
              "version_major": 2,
              "version_minor": 0,
              "model_id": "8a01e2dbd7944219bf8ba16300abeb3f"
            }
          },
          "metadata": {
            "application/vnd.jupyter.widget-view+json": {
              "colab": {
                "custom_widget_manager": {
                  "url": "https://ssl.gstatic.com/colaboratory-static/widgets/colab-cdn-widget-manager/2b70e893a8ba7c0f/manager.min.js"
                }
              }
            }
          }
        },
        {
          "output_type": "display_data",
          "data": {
            "text/plain": [
              "HTML(value=\"<p><i>Vẽ bằng chuột trái. Nhấn 'Predict' sau khi vẽ xong.</i></p>\")"
            ],
            "application/vnd.jupyter.widget-view+json": {
              "version_major": 2,
              "version_minor": 0,
              "model_id": "af9cc4c6ef9444249feccacf69f11080"
            }
          },
          "metadata": {
            "application/vnd.jupyter.widget-view+json": {
              "colab": {
                "custom_widget_manager": {
                  "url": "https://ssl.gstatic.com/colaboratory-static/widgets/colab-cdn-widget-manager/2b70e893a8ba7c0f/manager.min.js"
                }
              }
            }
          }
        },
        {
          "output_type": "display_data",
          "data": {
            "text/plain": [
              "Canvas(height=280, width=280)"
            ],
            "application/vnd.jupyter.widget-view+json": {
              "version_major": 2,
              "version_minor": 0,
              "model_id": "9db2ceefb8e842e99a19a53296ddced4"
            }
          },
          "metadata": {
            "application/vnd.jupyter.widget-view+json": {
              "colab": {
                "custom_widget_manager": {
                  "url": "https://ssl.gstatic.com/colaboratory-static/widgets/colab-cdn-widget-manager/2b70e893a8ba7c0f/manager.min.js"
                }
              }
            }
          }
        },
        {
          "output_type": "display_data",
          "data": {
            "text/plain": [
              "HTML(value='<br>')"
            ],
            "application/vnd.jupyter.widget-view+json": {
              "version_major": 2,
              "version_minor": 0,
              "model_id": "02b48d76bc3d4c84b83e719739a92993"
            }
          },
          "metadata": {
            "application/vnd.jupyter.widget-view+json": {
              "colab": {
                "custom_widget_manager": {
                  "url": "https://ssl.gstatic.com/colaboratory-static/widgets/colab-cdn-widget-manager/2b70e893a8ba7c0f/manager.min.js"
                }
              }
            }
          }
        },
        {
          "output_type": "display_data",
          "data": {
            "text/plain": [
              "HBox(children=(Button(description='Predict', disabled=True, style=ButtonStyle(), tooltip='Dự đoán chữ số đã vẽ…"
            ],
            "application/vnd.jupyter.widget-view+json": {
              "version_major": 2,
              "version_minor": 0,
              "model_id": "c1f2badd2e4d4217a131075570a5b42c"
            }
          },
          "metadata": {
            "application/vnd.jupyter.widget-view+json": {
              "colab": {
                "custom_widget_manager": {
                  "url": "https://ssl.gstatic.com/colaboratory-static/widgets/colab-cdn-widget-manager/2b70e893a8ba7c0f/manager.min.js"
                }
              }
            }
          }
        },
        {
          "output_type": "display_data",
          "data": {
            "text/plain": [
              "HTML(value='<br>')"
            ],
            "application/vnd.jupyter.widget-view+json": {
              "version_major": 2,
              "version_minor": 0,
              "model_id": "57d754d8b82e408d93adfa25abff1d5d"
            }
          },
          "metadata": {
            "application/vnd.jupyter.widget-view+json": {
              "colab": {
                "custom_widget_manager": {
                  "url": "https://ssl.gstatic.com/colaboratory-static/widgets/colab-cdn-widget-manager/2b70e893a8ba7c0f/manager.min.js"
                }
              }
            }
          }
        },
        {
          "output_type": "display_data",
          "data": {
            "text/plain": [
              "Output(layout=Layout(border='1px solid black', height='2000px'))"
            ],
            "application/vnd.jupyter.widget-view+json": {
              "version_major": 2,
              "version_minor": 0,
              "model_id": "23df2a2a48a049b692a970a89316975c"
            }
          },
          "metadata": {
            "application/vnd.jupyter.widget-view+json": {
              "colab": {
                "custom_widget_manager": {
                  "url": "https://ssl.gstatic.com/colaboratory-static/widgets/colab-cdn-widget-manager/2b70e893a8ba7c0f/manager.min.js"
                }
              }
            }
          }
        }
      ],
      "execution_count": 27
    }
  ],
  "metadata": {
    "kernelspec": {
      "display_name": "Python 3",
      "name": "python3"
    },
    "language_info": {
      "codemirror_mode": {
        "name": "ipython",
        "version": 3
      },
      "file_extension": ".py",
      "mimetype": "text/x-python",
      "name": "python",
      "nbconvert_exporter": "python",
      "pygments_lexer": "ipython3",
      "version": "3.12.3"
    },
    "colab": {
      "provenance": [],
      "gpuType": "T4"
    },
    "accelerator": "GPU",
    "widgets": {
      "application/vnd.jupyter.widget-state+json": {
        "8a01e2dbd7944219bf8ba16300abeb3f": {
          "model_module": "@jupyter-widgets/controls",
          "model_name": "HTMLModel",
          "model_module_version": "1.5.0",
          "state": {
            "_dom_classes": [],
            "_model_module": "@jupyter-widgets/controls",
            "_model_module_version": "1.5.0",
            "_model_name": "HTMLModel",
            "_view_count": null,
            "_view_module": "@jupyter-widgets/controls",
            "_view_module_version": "1.5.0",
            "_view_name": "HTMLView",
            "description": "",
            "description_tooltip": null,
            "layout": "IPY_MODEL_5923289471f349afb5c536d30832e625",
            "placeholder": "​",
            "style": "IPY_MODEL_4fe27535d5954def90c0cb2e057cfc45",
            "value": "<h3>🎨 Vẽ Chữ Số của Bạn (ipycanvas)</h3>"
          }
        },
        "5923289471f349afb5c536d30832e625": {
          "model_module": "@jupyter-widgets/base",
          "model_name": "LayoutModel",
          "model_module_version": "1.2.0",
          "state": {
            "_model_module": "@jupyter-widgets/base",
            "_model_module_version": "1.2.0",
            "_model_name": "LayoutModel",
            "_view_count": null,
            "_view_module": "@jupyter-widgets/base",
            "_view_module_version": "1.2.0",
            "_view_name": "LayoutView",
            "align_content": null,
            "align_items": null,
            "align_self": null,
            "border": null,
            "bottom": null,
            "display": null,
            "flex": null,
            "flex_flow": null,
            "grid_area": null,
            "grid_auto_columns": null,
            "grid_auto_flow": null,
            "grid_auto_rows": null,
            "grid_column": null,
            "grid_gap": null,
            "grid_row": null,
            "grid_template_areas": null,
            "grid_template_columns": null,
            "grid_template_rows": null,
            "height": null,
            "justify_content": null,
            "justify_items": null,
            "left": null,
            "margin": null,
            "max_height": null,
            "max_width": null,
            "min_height": null,
            "min_width": null,
            "object_fit": null,
            "object_position": null,
            "order": null,
            "overflow": null,
            "overflow_x": null,
            "overflow_y": null,
            "padding": null,
            "right": null,
            "top": null,
            "visibility": null,
            "width": null
          }
        },
        "4fe27535d5954def90c0cb2e057cfc45": {
          "model_module": "@jupyter-widgets/controls",
          "model_name": "DescriptionStyleModel",
          "model_module_version": "1.5.0",
          "state": {
            "_model_module": "@jupyter-widgets/controls",
            "_model_module_version": "1.5.0",
            "_model_name": "DescriptionStyleModel",
            "_view_count": null,
            "_view_module": "@jupyter-widgets/base",
            "_view_module_version": "1.2.0",
            "_view_name": "StyleView",
            "description_width": ""
          }
        },
        "af9cc4c6ef9444249feccacf69f11080": {
          "model_module": "@jupyter-widgets/controls",
          "model_name": "HTMLModel",
          "model_module_version": "1.5.0",
          "state": {
            "_dom_classes": [],
            "_model_module": "@jupyter-widgets/controls",
            "_model_module_version": "1.5.0",
            "_model_name": "HTMLModel",
            "_view_count": null,
            "_view_module": "@jupyter-widgets/controls",
            "_view_module_version": "1.5.0",
            "_view_name": "HTMLView",
            "description": "",
            "description_tooltip": null,
            "layout": "IPY_MODEL_693ae755343a4baeb256f961da0d2040",
            "placeholder": "​",
            "style": "IPY_MODEL_3b579694b92c4188ad13aeaedcf67b18",
            "value": "<p><i>Vẽ bằng chuột trái. Nhấn 'Predict' sau khi vẽ xong.</i></p>"
          }
        },
        "693ae755343a4baeb256f961da0d2040": {
          "model_module": "@jupyter-widgets/base",
          "model_name": "LayoutModel",
          "model_module_version": "1.2.0",
          "state": {
            "_model_module": "@jupyter-widgets/base",
            "_model_module_version": "1.2.0",
            "_model_name": "LayoutModel",
            "_view_count": null,
            "_view_module": "@jupyter-widgets/base",
            "_view_module_version": "1.2.0",
            "_view_name": "LayoutView",
            "align_content": null,
            "align_items": null,
            "align_self": null,
            "border": null,
            "bottom": null,
            "display": null,
            "flex": null,
            "flex_flow": null,
            "grid_area": null,
            "grid_auto_columns": null,
            "grid_auto_flow": null,
            "grid_auto_rows": null,
            "grid_column": null,
            "grid_gap": null,
            "grid_row": null,
            "grid_template_areas": null,
            "grid_template_columns": null,
            "grid_template_rows": null,
            "height": null,
            "justify_content": null,
            "justify_items": null,
            "left": null,
            "margin": null,
            "max_height": null,
            "max_width": null,
            "min_height": null,
            "min_width": null,
            "object_fit": null,
            "object_position": null,
            "order": null,
            "overflow": null,
            "overflow_x": null,
            "overflow_y": null,
            "padding": null,
            "right": null,
            "top": null,
            "visibility": null,
            "width": null
          }
        },
        "3b579694b92c4188ad13aeaedcf67b18": {
          "model_module": "@jupyter-widgets/controls",
          "model_name": "DescriptionStyleModel",
          "model_module_version": "1.5.0",
          "state": {
            "_model_module": "@jupyter-widgets/controls",
            "_model_module_version": "1.5.0",
            "_model_name": "DescriptionStyleModel",
            "_view_count": null,
            "_view_module": "@jupyter-widgets/base",
            "_view_module_version": "1.2.0",
            "_view_name": "StyleView",
            "description_width": ""
          }
        },
        "9db2ceefb8e842e99a19a53296ddced4": {
          "model_module": "ipycanvas",
          "model_name": "CanvasModel",
          "model_module_version": "^0.14",
          "state": {
            "_canvas_manager": "IPY_MODEL_f6ffa1187bcf4eefb69b81264e431b14",
            "_dom_classes": [],
            "_model_module": "ipycanvas",
            "_model_module_version": "^0.14",
            "_model_name": "CanvasModel",
            "_send_client_ready_event": true,
            "_view_count": null,
            "_view_module": "ipycanvas",
            "_view_module_version": "^0.14",
            "_view_name": "CanvasView",
            "height": 280,
            "image_data": null,
            "layout": "IPY_MODEL_09dc66880b9e4739afbfea25b50580b3",
            "sync_image_data": false,
            "width": 280
          }
        },
        "f6ffa1187bcf4eefb69b81264e431b14": {
          "model_module": "ipycanvas",
          "model_name": "CanvasManagerModel",
          "model_module_version": "^0.14",
          "state": {
            "_model_module": "ipycanvas",
            "_model_module_version": "^0.14",
            "_model_name": "CanvasManagerModel",
            "_view_count": null,
            "_view_module": null,
            "_view_module_version": "",
            "_view_name": null
          }
        },
        "09dc66880b9e4739afbfea25b50580b3": {
          "model_module": "@jupyter-widgets/base",
          "model_name": "LayoutModel",
          "model_module_version": "1.2.0",
          "state": {
            "_model_module": "@jupyter-widgets/base",
            "_model_module_version": "1.2.0",
            "_model_name": "LayoutModel",
            "_view_count": null,
            "_view_module": "@jupyter-widgets/base",
            "_view_module_version": "1.2.0",
            "_view_name": "LayoutView",
            "align_content": null,
            "align_items": null,
            "align_self": null,
            "border": null,
            "bottom": null,
            "display": null,
            "flex": null,
            "flex_flow": null,
            "grid_area": null,
            "grid_auto_columns": null,
            "grid_auto_flow": null,
            "grid_auto_rows": null,
            "grid_column": null,
            "grid_gap": null,
            "grid_row": null,
            "grid_template_areas": null,
            "grid_template_columns": null,
            "grid_template_rows": null,
            "height": null,
            "justify_content": null,
            "justify_items": null,
            "left": null,
            "margin": null,
            "max_height": null,
            "max_width": null,
            "min_height": null,
            "min_width": null,
            "object_fit": null,
            "object_position": null,
            "order": null,
            "overflow": null,
            "overflow_x": null,
            "overflow_y": null,
            "padding": null,
            "right": null,
            "top": null,
            "visibility": null,
            "width": null
          }
        },
        "02b48d76bc3d4c84b83e719739a92993": {
          "model_module": "@jupyter-widgets/controls",
          "model_name": "HTMLModel",
          "model_module_version": "1.5.0",
          "state": {
            "_dom_classes": [],
            "_model_module": "@jupyter-widgets/controls",
            "_model_module_version": "1.5.0",
            "_model_name": "HTMLModel",
            "_view_count": null,
            "_view_module": "@jupyter-widgets/controls",
            "_view_module_version": "1.5.0",
            "_view_name": "HTMLView",
            "description": "",
            "description_tooltip": null,
            "layout": "IPY_MODEL_6fde8d4459944b19bffa9de487ec0922",
            "placeholder": "​",
            "style": "IPY_MODEL_ae7b693ee0704ac781ba7ce4c8ed3229",
            "value": "<br>"
          }
        },
        "6fde8d4459944b19bffa9de487ec0922": {
          "model_module": "@jupyter-widgets/base",
          "model_name": "LayoutModel",
          "model_module_version": "1.2.0",
          "state": {
            "_model_module": "@jupyter-widgets/base",
            "_model_module_version": "1.2.0",
            "_model_name": "LayoutModel",
            "_view_count": null,
            "_view_module": "@jupyter-widgets/base",
            "_view_module_version": "1.2.0",
            "_view_name": "LayoutView",
            "align_content": null,
            "align_items": null,
            "align_self": null,
            "border": null,
            "bottom": null,
            "display": null,
            "flex": null,
            "flex_flow": null,
            "grid_area": null,
            "grid_auto_columns": null,
            "grid_auto_flow": null,
            "grid_auto_rows": null,
            "grid_column": null,
            "grid_gap": null,
            "grid_row": null,
            "grid_template_areas": null,
            "grid_template_columns": null,
            "grid_template_rows": null,
            "height": null,
            "justify_content": null,
            "justify_items": null,
            "left": null,
            "margin": null,
            "max_height": null,
            "max_width": null,
            "min_height": null,
            "min_width": null,
            "object_fit": null,
            "object_position": null,
            "order": null,
            "overflow": null,
            "overflow_x": null,
            "overflow_y": null,
            "padding": null,
            "right": null,
            "top": null,
            "visibility": null,
            "width": null
          }
        },
        "ae7b693ee0704ac781ba7ce4c8ed3229": {
          "model_module": "@jupyter-widgets/controls",
          "model_name": "DescriptionStyleModel",
          "model_module_version": "1.5.0",
          "state": {
            "_model_module": "@jupyter-widgets/controls",
            "_model_module_version": "1.5.0",
            "_model_name": "DescriptionStyleModel",
            "_view_count": null,
            "_view_module": "@jupyter-widgets/base",
            "_view_module_version": "1.2.0",
            "_view_name": "StyleView",
            "description_width": ""
          }
        },
        "c1f2badd2e4d4217a131075570a5b42c": {
          "model_module": "@jupyter-widgets/controls",
          "model_name": "HBoxModel",
          "model_module_version": "1.5.0",
          "state": {
            "_dom_classes": [],
            "_model_module": "@jupyter-widgets/controls",
            "_model_module_version": "1.5.0",
            "_model_name": "HBoxModel",
            "_view_count": null,
            "_view_module": "@jupyter-widgets/controls",
            "_view_module_version": "1.5.0",
            "_view_name": "HBoxView",
            "box_style": "",
            "children": [
              "IPY_MODEL_7b4596735dbe4d3f9422580407416c28",
              "IPY_MODEL_216e61aecc8f47349f2237a2a0bd0ca3"
            ],
            "layout": "IPY_MODEL_bc11b13ca1c04728b5f2b4968ddb2c7a"
          }
        },
        "7b4596735dbe4d3f9422580407416c28": {
          "model_module": "@jupyter-widgets/controls",
          "model_name": "ButtonModel",
          "model_module_version": "1.5.0",
          "state": {
            "_dom_classes": [],
            "_model_module": "@jupyter-widgets/controls",
            "_model_module_version": "1.5.0",
            "_model_name": "ButtonModel",
            "_view_count": null,
            "_view_module": "@jupyter-widgets/controls",
            "_view_module_version": "1.5.0",
            "_view_name": "ButtonView",
            "button_style": "success",
            "description": "Predict",
            "disabled": false,
            "icon": "",
            "layout": "IPY_MODEL_24234c7283044f9981e4202bcbc9e9fa",
            "style": "IPY_MODEL_8949284e1eda460a8effdbe0c9e8e78c",
            "tooltip": "Dự đoán chữ số đã vẽ"
          }
        },
        "216e61aecc8f47349f2237a2a0bd0ca3": {
          "model_module": "@jupyter-widgets/controls",
          "model_name": "ButtonModel",
          "model_module_version": "1.5.0",
          "state": {
            "_dom_classes": [],
            "_model_module": "@jupyter-widgets/controls",
            "_model_module_version": "1.5.0",
            "_model_name": "ButtonModel",
            "_view_count": null,
            "_view_module": "@jupyter-widgets/controls",
            "_view_module_version": "1.5.0",
            "_view_name": "ButtonView",
            "button_style": "warning",
            "description": "Clear Canvas",
            "disabled": false,
            "icon": "",
            "layout": "IPY_MODEL_998f74e4b1b54db3b48bf9247af83b83",
            "style": "IPY_MODEL_6922d2eb84a44487b4ab7171e3747a3b",
            "tooltip": "Xóa toàn bộ canvas"
          }
        },
        "bc11b13ca1c04728b5f2b4968ddb2c7a": {
          "model_module": "@jupyter-widgets/base",
          "model_name": "LayoutModel",
          "model_module_version": "1.2.0",
          "state": {
            "_model_module": "@jupyter-widgets/base",
            "_model_module_version": "1.2.0",
            "_model_name": "LayoutModel",
            "_view_count": null,
            "_view_module": "@jupyter-widgets/base",
            "_view_module_version": "1.2.0",
            "_view_name": "LayoutView",
            "align_content": null,
            "align_items": null,
            "align_self": null,
            "border": null,
            "bottom": null,
            "display": null,
            "flex": null,
            "flex_flow": null,
            "grid_area": null,
            "grid_auto_columns": null,
            "grid_auto_flow": null,
            "grid_auto_rows": null,
            "grid_column": null,
            "grid_gap": null,
            "grid_row": null,
            "grid_template_areas": null,
            "grid_template_columns": null,
            "grid_template_rows": null,
            "height": null,
            "justify_content": null,
            "justify_items": null,
            "left": null,
            "margin": null,
            "max_height": null,
            "max_width": null,
            "min_height": null,
            "min_width": null,
            "object_fit": null,
            "object_position": null,
            "order": null,
            "overflow": null,
            "overflow_x": null,
            "overflow_y": null,
            "padding": null,
            "right": null,
            "top": null,
            "visibility": null,
            "width": null
          }
        },
        "24234c7283044f9981e4202bcbc9e9fa": {
          "model_module": "@jupyter-widgets/base",
          "model_name": "LayoutModel",
          "model_module_version": "1.2.0",
          "state": {
            "_model_module": "@jupyter-widgets/base",
            "_model_module_version": "1.2.0",
            "_model_name": "LayoutModel",
            "_view_count": null,
            "_view_module": "@jupyter-widgets/base",
            "_view_module_version": "1.2.0",
            "_view_name": "LayoutView",
            "align_content": null,
            "align_items": null,
            "align_self": null,
            "border": null,
            "bottom": null,
            "display": null,
            "flex": null,
            "flex_flow": null,
            "grid_area": null,
            "grid_auto_columns": null,
            "grid_auto_flow": null,
            "grid_auto_rows": null,
            "grid_column": null,
            "grid_gap": null,
            "grid_row": null,
            "grid_template_areas": null,
            "grid_template_columns": null,
            "grid_template_rows": null,
            "height": null,
            "justify_content": null,
            "justify_items": null,
            "left": null,
            "margin": null,
            "max_height": null,
            "max_width": null,
            "min_height": null,
            "min_width": null,
            "object_fit": null,
            "object_position": null,
            "order": null,
            "overflow": null,
            "overflow_x": null,
            "overflow_y": null,
            "padding": null,
            "right": null,
            "top": null,
            "visibility": null,
            "width": null
          }
        },
        "8949284e1eda460a8effdbe0c9e8e78c": {
          "model_module": "@jupyter-widgets/controls",
          "model_name": "ButtonStyleModel",
          "model_module_version": "1.5.0",
          "state": {
            "_model_module": "@jupyter-widgets/controls",
            "_model_module_version": "1.5.0",
            "_model_name": "ButtonStyleModel",
            "_view_count": null,
            "_view_module": "@jupyter-widgets/base",
            "_view_module_version": "1.2.0",
            "_view_name": "StyleView",
            "button_color": null,
            "font_weight": ""
          }
        },
        "998f74e4b1b54db3b48bf9247af83b83": {
          "model_module": "@jupyter-widgets/base",
          "model_name": "LayoutModel",
          "model_module_version": "1.2.0",
          "state": {
            "_model_module": "@jupyter-widgets/base",
            "_model_module_version": "1.2.0",
            "_model_name": "LayoutModel",
            "_view_count": null,
            "_view_module": "@jupyter-widgets/base",
            "_view_module_version": "1.2.0",
            "_view_name": "LayoutView",
            "align_content": null,
            "align_items": null,
            "align_self": null,
            "border": null,
            "bottom": null,
            "display": null,
            "flex": null,
            "flex_flow": null,
            "grid_area": null,
            "grid_auto_columns": null,
            "grid_auto_flow": null,
            "grid_auto_rows": null,
            "grid_column": null,
            "grid_gap": null,
            "grid_row": null,
            "grid_template_areas": null,
            "grid_template_columns": null,
            "grid_template_rows": null,
            "height": null,
            "justify_content": null,
            "justify_items": null,
            "left": null,
            "margin": null,
            "max_height": null,
            "max_width": null,
            "min_height": null,
            "min_width": null,
            "object_fit": null,
            "object_position": null,
            "order": null,
            "overflow": null,
            "overflow_x": null,
            "overflow_y": null,
            "padding": null,
            "right": null,
            "top": null,
            "visibility": null,
            "width": null
          }
        },
        "6922d2eb84a44487b4ab7171e3747a3b": {
          "model_module": "@jupyter-widgets/controls",
          "model_name": "ButtonStyleModel",
          "model_module_version": "1.5.0",
          "state": {
            "_model_module": "@jupyter-widgets/controls",
            "_model_module_version": "1.5.0",
            "_model_name": "ButtonStyleModel",
            "_view_count": null,
            "_view_module": "@jupyter-widgets/base",
            "_view_module_version": "1.2.0",
            "_view_name": "StyleView",
            "button_color": null,
            "font_weight": ""
          }
        },
        "57d754d8b82e408d93adfa25abff1d5d": {
          "model_module": "@jupyter-widgets/controls",
          "model_name": "HTMLModel",
          "model_module_version": "1.5.0",
          "state": {
            "_dom_classes": [],
            "_model_module": "@jupyter-widgets/controls",
            "_model_module_version": "1.5.0",
            "_model_name": "HTMLModel",
            "_view_count": null,
            "_view_module": "@jupyter-widgets/controls",
            "_view_module_version": "1.5.0",
            "_view_name": "HTMLView",
            "description": "",
            "description_tooltip": null,
            "layout": "IPY_MODEL_cfca2f3af0eb48ec94ee8b39f56768e1",
            "placeholder": "​",
            "style": "IPY_MODEL_40208e9c2aea432189d91c2528d72d67",
            "value": "<br>"
          }
        },
        "cfca2f3af0eb48ec94ee8b39f56768e1": {
          "model_module": "@jupyter-widgets/base",
          "model_name": "LayoutModel",
          "model_module_version": "1.2.0",
          "state": {
            "_model_module": "@jupyter-widgets/base",
            "_model_module_version": "1.2.0",
            "_model_name": "LayoutModel",
            "_view_count": null,
            "_view_module": "@jupyter-widgets/base",
            "_view_module_version": "1.2.0",
            "_view_name": "LayoutView",
            "align_content": null,
            "align_items": null,
            "align_self": null,
            "border": null,
            "bottom": null,
            "display": null,
            "flex": null,
            "flex_flow": null,
            "grid_area": null,
            "grid_auto_columns": null,
            "grid_auto_flow": null,
            "grid_auto_rows": null,
            "grid_column": null,
            "grid_gap": null,
            "grid_row": null,
            "grid_template_areas": null,
            "grid_template_columns": null,
            "grid_template_rows": null,
            "height": null,
            "justify_content": null,
            "justify_items": null,
            "left": null,
            "margin": null,
            "max_height": null,
            "max_width": null,
            "min_height": null,
            "min_width": null,
            "object_fit": null,
            "object_position": null,
            "order": null,
            "overflow": null,
            "overflow_x": null,
            "overflow_y": null,
            "padding": null,
            "right": null,
            "top": null,
            "visibility": null,
            "width": null
          }
        },
        "40208e9c2aea432189d91c2528d72d67": {
          "model_module": "@jupyter-widgets/controls",
          "model_name": "DescriptionStyleModel",
          "model_module_version": "1.5.0",
          "state": {
            "_model_module": "@jupyter-widgets/controls",
            "_model_module_version": "1.5.0",
            "_model_name": "DescriptionStyleModel",
            "_view_count": null,
            "_view_module": "@jupyter-widgets/base",
            "_view_module_version": "1.2.0",
            "_view_name": "StyleView",
            "description_width": ""
          }
        },
        "23df2a2a48a049b692a970a89316975c": {
          "model_module": "@jupyter-widgets/output",
          "model_name": "OutputModel",
          "model_module_version": "1.0.0",
          "state": {
            "_dom_classes": [],
            "_model_module": "@jupyter-widgets/output",
            "_model_module_version": "1.0.0",
            "_model_name": "OutputModel",
            "_view_count": null,
            "_view_module": "@jupyter-widgets/output",
            "_view_module_version": "1.0.0",
            "_view_name": "OutputView",
            "layout": "IPY_MODEL_a4d244fa8a9b466ead3a8ba1397f9abb",
            "msg_id": "",
            "outputs": [
              {
                "output_type": "stream",
                "name": "stdout",
                "text": [
                  "🔍 Đang phân tích hình vẽ...\n"
                ]
              },
              {
                "output_type": "display_data",
                "data": {
                  "text/plain": "<Figure size 2000x1200 with 33 Axes>",
                  "image/png": "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\n"
                },
                "metadata": {}
              },
              {
                "output_type": "stream",
                "name": "stdout",
                "text": [
                  "\n",
                  "[PHÂN TÍCH MÔ HÌNH]\n",
                  "  - Lớp Conv1 (64 feature maps) trích xuất các đặc trưng cơ bản như cạnh, góc.\n",
                  "  - Lớp Conv2 (128 feature maps) kết hợp các đặc trưng cơ bản để tạo ra các mẫu phức tạp hơn.\n",
                  "  - Cuối cùng, các feature maps được flatten và đưa vào lớp Fully Connected để dự đoán.\n",
                  "\n",
                  "[KẾT QUẢ DỰ ĐOÁN CHI TIẾT]\n",
                  "  - Dự đoán cuối cùng: Chữ số 5\n",
                  "  - Độ tin cậy: 0.9989 (99.89%)\n",
                  "\n",
                  "[XÁC SUẤT CHO TỪNG CHỮ SỐ (0-9)]\n",
                  "  - Chữ số 0: 0.0000 (0.00%)\n",
                  "  - Chữ số 1: 0.0000 (0.00%)\n",
                  "  - Chữ số 2: 0.0000 (0.00%)\n",
                  "  - Chữ số 3: 0.0004 (0.04%)\n",
                  "  - Chữ số 4: 0.0000 (0.00%)\n",
                  "  - Chữ số 5: 0.9989 (99.89%)\n",
                  "  - Chữ số 6: 0.0001 (0.01%)\n",
                  "  - Chữ số 7: 0.0000 (0.00%)\n",
                  "  - Chữ số 8: 0.0001 (0.01%)\n",
                  "  - Chữ số 9: 0.0005 (0.05%)\n",
                  "\n",
                  "[BIỂU ĐỒ XÁC SUẤT]\n"
                ]
              },
              {
                "output_type": "display_data",
                "data": {
                  "text/plain": "<Figure size 1000x300 with 1 Axes>",
                  "image/png": "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\n"
                },
                "metadata": {}
              },
              {
                "output_type": "stream",
                "name": "stdout",
                "text": [
                  "----------------------------------------\n"
                ]
              }
            ]
          }
        },
        "a4d244fa8a9b466ead3a8ba1397f9abb": {
          "model_module": "@jupyter-widgets/base",
          "model_name": "LayoutModel",
          "model_module_version": "1.2.0",
          "state": {
            "_model_module": "@jupyter-widgets/base",
            "_model_module_version": "1.2.0",
            "_model_name": "LayoutModel",
            "_view_count": null,
            "_view_module": "@jupyter-widgets/base",
            "_view_module_version": "1.2.0",
            "_view_name": "LayoutView",
            "align_content": null,
            "align_items": null,
            "align_self": null,
            "border": "1px solid black",
            "bottom": null,
            "display": null,
            "flex": null,
            "flex_flow": null,
            "grid_area": null,
            "grid_auto_columns": null,
            "grid_auto_flow": null,
            "grid_auto_rows": null,
            "grid_column": null,
            "grid_gap": null,
            "grid_row": null,
            "grid_template_areas": null,
            "grid_template_columns": null,
            "grid_template_rows": null,
            "height": "2000px",
            "justify_content": null,
            "justify_items": null,
            "left": null,
            "margin": null,
            "max_height": null,
            "max_width": null,
            "min_height": null,
            "min_width": null,
            "object_fit": null,
            "object_position": null,
            "order": null,
            "overflow": null,
            "overflow_x": null,
            "overflow_y": null,
            "padding": null,
            "right": null,
            "top": null,
            "visibility": null,
            "width": null
          }
        }
      }
    }
  },
  "nbformat": 4,
  "nbformat_minor": 5
}